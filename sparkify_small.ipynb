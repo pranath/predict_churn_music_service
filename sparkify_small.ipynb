{
 "cells": [
  {
   "cell_type": "markdown",
   "metadata": {},
   "source": [
    "# Sparkify Project\n",
    "## Project overview\n",
    "\n",
    "Many online services these days provide flexible services to customers which are easy to subscribe to and unsubscribe from. Good examples of such services in the music industry include those such as Spotify and Pandora.\n",
    "\n",
    "A common problem with these services is trying to anticipate customers who plan to cancel (also known as customer 'churn') with the idea of perhaps encouraging them to stay by providing a special offer, or other incentives. By minimizing customer churn, these services can aim keep more customers happy, and ensure their businesses are more profitable.\n",
    "\n",
    "For this project, we have a dataset from a music service called Sparkify, very similar to Spotify and Pandora.\n",
    "\n",
    "## Project definition\n",
    "\n",
    "Streaming music services can produce huge datasets, and we will approach this project by using one of the most caperble tools for dealing with big data - Apache Spark.\n",
    "\n",
    "In this project, will analyse the dataset for user logs from the Sparkify service and seek to build a machine learning model that is able to predict customers that might churn.\n",
    "\n",
    "Our dataset to use is relatively small, but we will stil use Spark so our approach can scale to much bigger datasets.\n",
    "\n",
    "We will analyse the dataset to find promising features for machine learning, and may also engineer new features that may be useful. We will then explore a range of machine learning models.\n",
    "\n",
    "To optimise the best results for our relatively small dataset and to help us arrive at the best model that would scale to a bigger dataset, we will use the F1 score as a metric to judge the performance of our models. We will also use cross-validation during model training to best optimise the value of our smaller dataset.\n",
    "\n",
    "Finally, we will identify the most useful features our models discovered for predicting customer churn."
   ]
  },
  {
   "cell_type": "code",
   "execution_count": 1,
   "metadata": {},
   "outputs": [],
   "source": [
    "# import libraries\n",
    "import pyspark\n",
    "from pyspark import SparkConf\n",
    "from pyspark.sql import SparkSession\n",
    "from pyspark.sql import Window\n",
    "from pyspark.sql.types import IntegerType, FloatType\n",
    "from pyspark.sql.types import LongType\n",
    "from pyspark.sql.functions import desc\n",
    "from pyspark.sql.functions import udf\n",
    "from pyspark.sql.functions import sum as Fsum\n",
    "from pyspark.sql.functions import lit\n",
    "from pyspark.sql.functions import col\n",
    "from pyspark.sql.functions import first\n",
    "from pyspark.sql.functions import rank, col\n",
    "from pyspark.ml.feature import VectorAssembler, Normalizer, StandardScaler\n",
    "from pyspark.ml.classification import LogisticRegression, RandomForestClassifier, GBTClassifier\n",
    "from pyspark.ml.tuning import CrossValidator, ParamGridBuilder\n",
    "from pyspark.ml.evaluation import MulticlassClassificationEvaluator\n",
    "\n",
    "from scipy.stats import ttest_ind\n",
    "import datetime\n",
    "import numpy as np\n",
    "import pandas as pd\n",
    "import seaborn as sns\n",
    "import matplotlib.pyplot as plt\n",
    "from time import time\n",
    "\n",
    "%matplotlib inline"
   ]
  },
  {
   "cell_type": "code",
   "execution_count": 2,
   "metadata": {},
   "outputs": [
    {
     "data": {
      "text/plain": [
       "[('spark.rdd.compress', 'True'),\n",
       " ('spark.serializer.objectStreamReset', '100'),\n",
       " ('spark.driver.port', '45391'),\n",
       " ('spark.master', 'local[*]'),\n",
       " ('spark.executor.id', 'driver'),\n",
       " ('spark.app.name', 'Sparkify project'),\n",
       " ('spark.submit.deployMode', 'client'),\n",
       " ('spark.driver.host', 'f9308b7fcf3f'),\n",
       " ('spark.ui.showConsoleProgress', 'true'),\n",
       " ('spark.app.id', 'local-1560711527522')]"
      ]
     },
     "execution_count": 2,
     "metadata": {},
     "output_type": "execute_result"
    }
   ],
   "source": [
    "# create a Spark session\n",
    "spark = SparkSession \\\n",
    "    .builder \\\n",
    "    .appName(\"Sparkify project\") \\\n",
    "    .getOrCreate()\n",
    "\n",
    "spark.sparkContext.getConf().getAll()"
   ]
  },
  {
   "cell_type": "markdown",
   "metadata": {},
   "source": [
    "# Load and Clean Dataset\n",
    "In this workspace, the mini-dataset file is `mini_sparkify_event_data.json`. Load and clean the dataset, checking for invalid or missing data - for example, records without userids or sessionids. "
   ]
  },
  {
   "cell_type": "code",
   "execution_count": 3,
   "metadata": {},
   "outputs": [
    {
     "name": "stdout",
     "output_type": "stream",
     "text": [
      "root\n",
      " |-- artist: string (nullable = true)\n",
      " |-- auth: string (nullable = true)\n",
      " |-- firstName: string (nullable = true)\n",
      " |-- gender: string (nullable = true)\n",
      " |-- itemInSession: long (nullable = true)\n",
      " |-- lastName: string (nullable = true)\n",
      " |-- length: double (nullable = true)\n",
      " |-- level: string (nullable = true)\n",
      " |-- location: string (nullable = true)\n",
      " |-- method: string (nullable = true)\n",
      " |-- page: string (nullable = true)\n",
      " |-- registration: long (nullable = true)\n",
      " |-- sessionId: long (nullable = true)\n",
      " |-- song: string (nullable = true)\n",
      " |-- status: long (nullable = true)\n",
      " |-- ts: long (nullable = true)\n",
      " |-- userAgent: string (nullable = true)\n",
      " |-- userId: string (nullable = true)\n",
      "\n"
     ]
    }
   ],
   "source": [
    "# Load dataset from json\n",
    "path = \"mini_sparkify_event_data.json\"\n",
    "user_log = spark.read.json(path)\n",
    "# Show schema\n",
    "user_log.printSchema()"
   ]
  },
  {
   "cell_type": "code",
   "execution_count": 4,
   "metadata": {},
   "outputs": [
    {
     "data": {
      "text/plain": [
       "DataFrame[summary: string, artist: string, auth: string, firstName: string, gender: string, itemInSession: string, lastName: string, length: string, level: string, location: string, method: string, page: string, registration: string, sessionId: string, song: string, status: string, ts: string, userAgent: string, userId: string]"
      ]
     },
     "execution_count": 4,
     "metadata": {},
     "output_type": "execute_result"
    }
   ],
   "source": [
    "# Get field definitions\n",
    "user_log.describe()"
   ]
  },
  {
   "cell_type": "code",
   "execution_count": 5,
   "metadata": {},
   "outputs": [
    {
     "name": "stdout",
     "output_type": "stream",
     "text": [
      "+--------------+---------+---------+------+-------------+--------+---------+-----+---------------+------+--------+-------------+---------+---------+------+-------------+--------------------+------+\n",
      "|        artist|     auth|firstName|gender|itemInSession|lastName|   length|level|       location|method|    page| registration|sessionId|     song|status|           ts|           userAgent|userId|\n",
      "+--------------+---------+---------+------+-------------+--------+---------+-----+---------------+------+--------+-------------+---------+---------+------+-------------+--------------------+------+\n",
      "|Martha Tilston|Logged In|    Colin|     M|           50| Freeman|277.89016| paid|Bakersfield, CA|   PUT|NextSong|1538173362000|       29|Rockpools|   200|1538352117000|Mozilla/5.0 (Wind...|    30|\n",
      "+--------------+---------+---------+------+-------------+--------+---------+-----+---------------+------+--------+-------------+---------+---------+------+-------------+--------------------+------+\n",
      "only showing top 1 row\n",
      "\n"
     ]
    }
   ],
   "source": [
    "# Look at first record\n",
    "user_log.show(n=1)"
   ]
  },
  {
   "cell_type": "code",
   "execution_count": 6,
   "metadata": {},
   "outputs": [
    {
     "data": {
      "text/plain": [
       "286500"
      ]
     },
     "execution_count": 6,
     "metadata": {},
     "output_type": "execute_result"
    }
   ],
   "source": [
    "# Count how many records we have currently\n",
    "user_log.count()"
   ]
  },
  {
   "cell_type": "code",
   "execution_count": 7,
   "metadata": {},
   "outputs": [
    {
     "data": {
      "text/plain": [
       "286500"
      ]
     },
     "execution_count": 7,
     "metadata": {},
     "output_type": "execute_result"
    }
   ],
   "source": [
    "# Drop rows with missing user or session id\n",
    "user_log_valid = user_log.dropna(how = \"any\", subset = [\"userId\", \"sessionId\"])\n",
    "user_log_valid.count()"
   ]
  },
  {
   "cell_type": "code",
   "execution_count": 8,
   "metadata": {},
   "outputs": [
    {
     "name": "stdout",
     "output_type": "stream",
     "text": [
      "+------+\n",
      "|userId|\n",
      "+------+\n",
      "|      |\n",
      "|    10|\n",
      "|   100|\n",
      "|100001|\n",
      "|100002|\n",
      "|100003|\n",
      "|100004|\n",
      "|100005|\n",
      "|100006|\n",
      "|100007|\n",
      "|100008|\n",
      "|100009|\n",
      "|100010|\n",
      "|100011|\n",
      "|100012|\n",
      "|100013|\n",
      "|100014|\n",
      "|100015|\n",
      "|100016|\n",
      "|100017|\n",
      "+------+\n",
      "only showing top 20 rows\n",
      "\n"
     ]
    }
   ],
   "source": [
    "# Lets have a look to see the remaining user id's\n",
    "user_log_valid.select(\"userId\").dropDuplicates().sort(\"userId\").show()"
   ]
  },
  {
   "cell_type": "code",
   "execution_count": 9,
   "metadata": {},
   "outputs": [
    {
     "data": {
      "text/plain": [
       "278154"
      ]
     },
     "execution_count": 9,
     "metadata": {},
     "output_type": "execute_result"
    }
   ],
   "source": [
    "# Remove rows with empty user id\n",
    "user_log_valid = user_log_valid.filter(user_log_valid[\"userId\"] != \"\")\n",
    "user_log_valid.count()"
   ]
  },
  {
   "cell_type": "code",
   "execution_count": 10,
   "metadata": {},
   "outputs": [
    {
     "name": "stdout",
     "output_type": "stream",
     "text": [
      "+---------+\n",
      "|sessionId|\n",
      "+---------+\n",
      "|        1|\n",
      "|        2|\n",
      "|        3|\n",
      "|        4|\n",
      "|        5|\n",
      "|        6|\n",
      "|        7|\n",
      "|        8|\n",
      "|        9|\n",
      "|       10|\n",
      "|       11|\n",
      "|       12|\n",
      "|       13|\n",
      "|       15|\n",
      "|       16|\n",
      "|       17|\n",
      "|       18|\n",
      "|       19|\n",
      "|       20|\n",
      "|       21|\n",
      "+---------+\n",
      "only showing top 20 rows\n",
      "\n"
     ]
    }
   ],
   "source": [
    "# Lets have a look to see the remaining session id's\n",
    "user_log_valid.select(\"sessionId\").dropDuplicates().sort(\"sessionId\").show()"
   ]
  },
  {
   "cell_type": "code",
   "execution_count": 11,
   "metadata": {},
   "outputs": [
    {
     "data": {
      "text/plain": [
       "278154"
      ]
     },
     "execution_count": 11,
     "metadata": {},
     "output_type": "execute_result"
    }
   ],
   "source": [
    "# Remove rows with zero ts\n",
    "user_log_valid = user_log_valid.filter(user_log_valid[\"ts\"] != 0)\n",
    "user_log_valid.count()"
   ]
  },
  {
   "cell_type": "markdown",
   "metadata": {},
   "source": [
    "# Exploratory Data Analysis\n",
    "When you're working with the full dataset, perform EDA by loading a small subset of the data and doing basic manipulations within Spark. In this workspace, you are already provided a small subset of data you can explore.\n",
    "\n",
    "### Define Churn\n",
    "\n",
    "Once you've done some preliminary analysis, create a column `Churn` to use as the label for your model. I suggest using the `Cancellation Confirmation` events to define your churn, which happen for both paid and free users. As a bonus task, you can also look into the `Downgrade` events.\n",
    "\n",
    "### Explore Data\n",
    "Once you've defined churn, perform some exploratory data analysis to observe the behavior for users who stayed vs users who churned. You can start by exploring aggregates on these two groups of users, observing how much of a specific action they experienced per a certain time unit or number of songs played.\n",
    "\n",
    "### Preliminary data analysis"
   ]
  },
  {
   "cell_type": "code",
   "execution_count": 12,
   "metadata": {},
   "outputs": [
    {
     "data": {
      "text/plain": [
       "DataFrame[summary: string, artist: string, auth: string, firstName: string, gender: string, itemInSession: string, lastName: string, length: string, level: string, location: string, method: string, page: string, registration: string, sessionId: string, song: string, status: string, ts: string, userAgent: string, userId: string]"
      ]
     },
     "execution_count": 12,
     "metadata": {},
     "output_type": "execute_result"
    }
   ],
   "source": [
    "user_log_valid.describe()"
   ]
  },
  {
   "cell_type": "code",
   "execution_count": 13,
   "metadata": {},
   "outputs": [
    {
     "name": "stdout",
     "output_type": "stream",
     "text": [
      "+-------+------------------+\n",
      "|summary|     itemInSession|\n",
      "+-------+------------------+\n",
      "|  count|            278154|\n",
      "|   mean|114.89918174824018|\n",
      "| stddev|  129.851729399489|\n",
      "|    min|                 0|\n",
      "|    max|              1321|\n",
      "+-------+------------------+\n",
      "\n"
     ]
    }
   ],
   "source": [
    "user_log_valid.describe(\"itemInSession\").show()"
   ]
  },
  {
   "cell_type": "code",
   "execution_count": 14,
   "metadata": {},
   "outputs": [
    {
     "name": "stdout",
     "output_type": "stream",
     "text": [
      "+-------+-----------------+\n",
      "|summary|           length|\n",
      "+-------+-----------------+\n",
      "|  count|           228108|\n",
      "|   mean|249.1171819778458|\n",
      "| stddev|99.23517921058361|\n",
      "|    min|          0.78322|\n",
      "|    max|       3024.66567|\n",
      "+-------+-----------------+\n",
      "\n"
     ]
    }
   ],
   "source": [
    "user_log_valid.describe(\"length\").show()"
   ]
  },
  {
   "cell_type": "code",
   "execution_count": 15,
   "metadata": {},
   "outputs": [
    {
     "name": "stdout",
     "output_type": "stream",
     "text": [
      "+------+\n",
      "|status|\n",
      "+------+\n",
      "|   200|\n",
      "|   307|\n",
      "|   404|\n",
      "+------+\n",
      "\n"
     ]
    }
   ],
   "source": [
    "user_log_valid.select(\"status\").dropDuplicates().sort(\"status\").show()"
   ]
  },
  {
   "cell_type": "code",
   "execution_count": 16,
   "metadata": {},
   "outputs": [
    {
     "name": "stdout",
     "output_type": "stream",
     "text": [
      "+-------------------------+\n",
      "|page                     |\n",
      "+-------------------------+\n",
      "|About                    |\n",
      "|Add Friend               |\n",
      "|Add to Playlist          |\n",
      "|Cancel                   |\n",
      "|Cancellation Confirmation|\n",
      "|Downgrade                |\n",
      "|Error                    |\n",
      "|Help                     |\n",
      "|Home                     |\n",
      "|Logout                   |\n",
      "|NextSong                 |\n",
      "|Roll Advert              |\n",
      "|Save Settings            |\n",
      "|Settings                 |\n",
      "|Submit Downgrade         |\n",
      "|Submit Upgrade           |\n",
      "|Thumbs Down              |\n",
      "|Thumbs Up                |\n",
      "|Upgrade                  |\n",
      "+-------------------------+\n",
      "\n"
     ]
    }
   ],
   "source": [
    "user_log_valid.select(\"page\").dropDuplicates().sort(\"page\").show(truncate=False)"
   ]
  },
  {
   "cell_type": "code",
   "execution_count": 17,
   "metadata": {},
   "outputs": [
    {
     "data": {
      "text/plain": [
       "225"
      ]
     },
     "execution_count": 17,
     "metadata": {},
     "output_type": "execute_result"
    }
   ],
   "source": [
    "# Number of unique users\n",
    "unique_users_total = user_log_valid.select('userId').distinct().count()\n",
    "unique_users_total"
   ]
  },
  {
   "cell_type": "code",
   "execution_count": 18,
   "metadata": {},
   "outputs": [
    {
     "name": "stdout",
     "output_type": "stream",
     "text": [
      "+------+\n",
      "|userId|\n",
      "+------+\n",
      "|100010|\n",
      "|200002|\n",
      "|   125|\n",
      "|    51|\n",
      "|   124|\n",
      "+------+\n",
      "only showing top 5 rows\n",
      "\n"
     ]
    }
   ],
   "source": [
    "# Lets look at the first few users\n",
    "user_log_valid.select('userId').distinct().show(5)"
   ]
  },
  {
   "cell_type": "code",
   "execution_count": 19,
   "metadata": {},
   "outputs": [
    {
     "data": {
      "text/plain": [
       "[Row(userId='100010', registration=1538016340000, ts=1539003534000, page='NextSong', song='Captain Tyin Knots VS Mr Walkway (No Way)'),\n",
       " Row(userId='100010', registration=1538016340000, ts=1539003736000, page='NextSong', song='Beautiful_ Beautiful (Album)'),\n",
       " Row(userId='100010', registration=1538016340000, ts=1539003932000, page='NextSong', song=\"She's Gone\"),\n",
       " Row(userId='100010', registration=1538016340000, ts=1539003933000, page='Thumbs Up', song=None),\n",
       " Row(userId='100010', registration=1538016340000, ts=1539004195000, page='NextSong', song='Folk Bloodbath'),\n",
       " Row(userId='100010', registration=1538016340000, ts=1539004511000, page='NextSong', song='Yes'),\n",
       " Row(userId='100010', registration=1538016340000, ts=1539004694000, page='NextSong', song='Secrets'),\n",
       " Row(userId='100010', registration=1538016340000, ts=1539004918000, page='NextSong', song=\"You're The One\"),\n",
       " Row(userId='100010', registration=1538016340000, ts=1539004961000, page='Roll Advert', song=None),\n",
       " Row(userId='100010', registration=1538016340000, ts=1539005157000, page='NextSong', song='Mr Sandman'),\n",
       " Row(userId='100010', registration=1538016340000, ts=1539005299000, page='NextSong', song='I Get Joy'),\n",
       " Row(userId='100010', registration=1538016340000, ts=1539005548000, page='NextSong', song='The Final Sound'),\n",
       " Row(userId='100010', registration=1538016340000, ts=1539005571000, page='Roll Advert', song=None),\n",
       " Row(userId='100010', registration=1538016340000, ts=1539005600000, page='NextSong', song=\"Day 'N' Nite\"),\n",
       " Row(userId='100010', registration=1538016340000, ts=1539005601000, page='Thumbs Up', song=None),\n",
       " Row(userId='100010', registration=1538016340000, ts=1539005762000, page='NextSong', song='2080'),\n",
       " Row(userId='100010', registration=1538016340000, ts=1539006085000, page='NextSong', song='Ache For You'),\n",
       " Row(userId='100010', registration=1538016340000, ts=1539006103000, page='Roll Advert', song=None),\n",
       " Row(userId='100010', registration=1538016340000, ts=1539006330000, page='NextSong', song='Just Like A Rose'),\n",
       " Row(userId='100010', registration=1538016340000, ts=1539006331000, page='Roll Advert', song=None),\n",
       " Row(userId='100010', registration=1538016340000, ts=1539006458000, page='NextSong', song='The Gift'),\n",
       " Row(userId='100010', registration=1538016340000, ts=1539006503000, page='Roll Advert', song=None),\n",
       " Row(userId='100010', registration=1538016340000, ts=1539006760000, page='NextSong', song='Erni & Berni'),\n",
       " Row(userId='100010', registration=1538016340000, ts=1539006937000, page='NextSong', song='Mountains'),\n",
       " Row(userId='100010', registration=1538016340000, ts=1539007140000, page='NextSong', song=\"What's The Difference\"),\n",
       " Row(userId='100010', registration=1538016340000, ts=1539007384000, page='NextSong', song='Officially Missing You (Radio Version)'),\n",
       " Row(userId='100010', registration=1538016340000, ts=1539007627000, page='NextSong', song='W Zlobie Lezy'),\n",
       " Row(userId='100010', registration=1538016340000, ts=1539007742000, page='NextSong', song='It Matters'),\n",
       " Row(userId='100010', registration=1538016340000, ts=1539007841000, page='NextSong', song='Coma White'),\n",
       " Row(userId='100010', registration=1538016340000, ts=1539008179000, page='NextSong', song='Rock Da Spot'),\n",
       " Row(userId='100010', registration=1538016340000, ts=1539008429000, page='NextSong', song='The Feel Good Drag'),\n",
       " Row(userId='100010', registration=1538016340000, ts=1539008633000, page='NextSong', song='Trouble Will Find You'),\n",
       " Row(userId='100010', registration=1538016340000, ts=1539008656000, page='Roll Advert', song=None),\n",
       " Row(userId='100010', registration=1538016340000, ts=1539008963000, page='NextSong', song='16 Candles'),\n",
       " Row(userId='100010', registration=1538016340000, ts=1539009145000, page='NextSong', song='Il Ballo Di San Vito'),\n",
       " Row(userId='100010', registration=1538016340000, ts=1539009347000, page='NextSong', song='Undo'),\n",
       " Row(userId='100010', registration=1538016340000, ts=1539009695000, page='NextSong', song='Mirala_ Miralo'),\n",
       " Row(userId='100010', registration=1538016340000, ts=1539009936000, page='NextSong', song='Only You (Illuminate Album Version)'),\n",
       " Row(userId='100010', registration=1538016340000, ts=1539010177000, page='NextSong', song='Baby M'),\n",
       " Row(userId='100010', registration=1538016340000, ts=1539010247000, page='Roll Advert', song=None),\n",
       " Row(userId='100010', registration=1538016340000, ts=1539603322000, page='NextSong', song='Give Your Heart Away'),\n",
       " Row(userId='100010', registration=1538016340000, ts=1539603528000, page='NextSong', song='The Way You Make Me Feel'),\n",
       " Row(userId='100010', registration=1538016340000, ts=1539603825000, page='NextSong', song='Teach Me How To Dougie'),\n",
       " Row(userId='100010', registration=1538016340000, ts=1539604064000, page='NextSong', song='Where Is My Mind?'),\n",
       " Row(userId='100010', registration=1538016340000, ts=1539604089000, page='Home', song=None),\n",
       " Row(userId='100010', registration=1538016340000, ts=1539604293000, page='NextSong', song='Like O_ Like H (Album Version)'),\n",
       " Row(userId='100010', registration=1538016340000, ts=1539604452000, page='NextSong', song='Dirty And Left Out'),\n",
       " Row(userId='100010', registration=1538016340000, ts=1539604674000, page='NextSong', song='Paradise & Dreams'),\n",
       " Row(userId='100010', registration=1538016340000, ts=1539604675000, page='Logout', song=None),\n",
       " Row(userId='100010', registration=1538016340000, ts=1539699018000, page='Home', song=None),\n",
       " Row(userId='100010', registration=1538016340000, ts=1539699018000, page='NextSong', song='Birthday Sex'),\n",
       " Row(userId='100010', registration=1538016340000, ts=1539699245000, page='NextSong', song='I Want (Album Version)'),\n",
       " Row(userId='100010', registration=1538016340000, ts=1539699253000, page='Roll Advert', song=None),\n",
       " Row(userId='100010', registration=1538016340000, ts=1539699258000, page='Roll Advert', song=None),\n",
       " Row(userId='100010', registration=1538016340000, ts=1539699386000, page='NextSong', song='The Only Exception (Album Version)'),\n",
       " Row(userId='100010', registration=1538016340000, ts=1539699653000, page='NextSong', song='One Angry Dwarf And 200 Solemn Faces'),\n",
       " Row(userId='100010', registration=1538016340000, ts=1539699903000, page='NextSong', song='Call Me Sick Boy'),\n",
       " Row(userId='100010', registration=1538016340000, ts=1539699985000, page='Roll Advert', song=None),\n",
       " Row(userId='100010', registration=1538016340000, ts=1539700124000, page='NextSong', song='Pallas Athena (2003 Digital Remaster)'),\n",
       " Row(userId='100010', registration=1538016340000, ts=1539700125000, page='Add to Playlist', song=None),\n",
       " Row(userId='100010', registration=1538016340000, ts=1539700403000, page='NextSong', song='Broken China'),\n",
       " Row(userId='100010', registration=1538016340000, ts=1539700404000, page='Logout', song=None),\n",
       " Row(userId='100010', registration=1538016340000, ts=1539700458000, page='Home', song=None),\n",
       " Row(userId='100010', registration=1538016340000, ts=1539700669000, page='NextSong', song='Ich Will'),\n",
       " Row(userId='100010', registration=1538016340000, ts=1539700886000, page='NextSong', song='Dinosaur'),\n",
       " Row(userId='100010', registration=1538016340000, ts=1539701061000, page='NextSong', song='Have You Got It In You?'),\n",
       " Row(userId='100010', registration=1538016340000, ts=1539701310000, page='NextSong', song='Wake Up Little Suzie'),\n",
       " Row(userId='100010', registration=1538016340000, ts=1539701346000, page='Help', song=None),\n",
       " Row(userId='100010', registration=1538016340000, ts=1539701431000, page='NextSong', song='Beating On Deaths Door'),\n",
       " Row(userId='100010', registration=1538016340000, ts=1539701432000, page='Thumbs Up', song=None),\n",
       " Row(userId='100010', registration=1538016340000, ts=1539701737000, page='NextSong', song='Foux du Fafa (Album Version)'),\n",
       " Row(userId='100010', registration=1538016340000, ts=1539701903000, page='NextSong', song='The Only Exception (Album Version)'),\n",
       " Row(userId='100010', registration=1538016340000, ts=1539702170000, page='NextSong', song='Independence Day (version)'),\n",
       " Row(userId='100010', registration=1538016340000, ts=1539702482000, page='NextSong', song='Asleep'),\n",
       " Row(userId='100010', registration=1538016340000, ts=1539702732000, page='NextSong', song=\"Love Don't\"),\n",
       " Row(userId='100010', registration=1538016340000, ts=1539702920000, page='NextSong', song='Stormtrooper (LP Version)'),\n",
       " Row(userId='100010', registration=1538016340000, ts=1539702931000, page='Home', song=None),\n",
       " Row(userId='100010', registration=1538016340000, ts=1539703247000, page='NextSong', song=\"Boomin' / Opera Trip Interlude (Portable Sounds Album Version)\"),\n",
       " Row(userId='100010', registration=1538016340000, ts=1539703489000, page='NextSong', song='Rise & Fall [Feat. Sting]'),\n",
       " Row(userId='100010', registration=1538016340000, ts=1539703776000, page='NextSong', song='PDA (E.P Version)'),\n",
       " Row(userId='100010', registration=1538016340000, ts=1539703820000, page='Roll Advert', song=None),\n",
       " Row(userId='100010', registration=1538016340000, ts=1539704078000, page='NextSong', song='Make Love To Your Mind'),\n",
       " Row(userId='100010', registration=1538016340000, ts=1539704461000, page='NextSong', song='Bliss'),\n",
       " Row(userId='100010', registration=1538016340000, ts=1539704713000, page='NextSong', song='Back Against The Wall'),\n",
       " Row(userId='100010', registration=1538016340000, ts=1539704723000, page='Roll Advert', song=None),\n",
       " Row(userId='100010', registration=1538016340000, ts=1539704941000, page='NextSong', song='Heat Miser'),\n",
       " Row(userId='100010', registration=1538016340000, ts=1539705160000, page='NextSong', song='Stargaze'),\n",
       " Row(userId='100010', registration=1538016340000, ts=1539705161000, page='Add Friend', song=None),\n",
       " Row(userId='100010', registration=1538016340000, ts=1539705376000, page='NextSong', song='If Looks Could Kill'),\n",
       " Row(userId='100010', registration=1538016340000, ts=1539705413000, page='Roll Advert', song=None),\n",
       " Row(userId='100010', registration=1538016340000, ts=1539705583000, page='NextSong', song='Who Can Compare'),\n",
       " Row(userId='100010', registration=1538016340000, ts=1539705849000, page='NextSong', song='Loud Pipes'),\n",
       " Row(userId='100010', registration=1538016340000, ts=1539706075000, page='NextSong', song='Aviador'),\n",
       " Row(userId='100010', registration=1538016340000, ts=1539706104000, page='Roll Advert', song=None),\n",
       " Row(userId='100010', registration=1538016340000, ts=1539706373000, page='NextSong', song='A Ti'),\n",
       " Row(userId='100010', registration=1538016340000, ts=1539706591000, page='NextSong', song='I Wanna Love You'),\n",
       " Row(userId='100010', registration=1538016340000, ts=1539706592000, page='Thumbs Up', song=None),\n",
       " Row(userId='100010', registration=1538016340000, ts=1539706837000, page='NextSong', song='The Outside'),\n",
       " Row(userId='100010', registration=1538016340000, ts=1539707044000, page='NextSong', song=\"I Bet She Doesn't Feel It\"),\n",
       " Row(userId='100010', registration=1538016340000, ts=1539707220000, page='NextSong', song='Canada'),\n",
       " Row(userId='100010', registration=1538016340000, ts=1539707456000, page='NextSong', song=\"You're Ever So Inviting\"),\n",
       " Row(userId='100010', registration=1538016340000, ts=1539707698000, page='NextSong', song='Pogo'),\n",
       " Row(userId='100010', registration=1538016340000, ts=1539707923000, page='NextSong', song=\"Don't Take Away The Music\"),\n",
       " Row(userId='100010', registration=1538016340000, ts=1539707924000, page='Thumbs Down', song=None),\n",
       " Row(userId='100010', registration=1538016340000, ts=1540045112000, page='Home', song=None),\n",
       " Row(userId='100010', registration=1538016340000, ts=1540045118000, page='NextSong', song='Alejate De Mi'),\n",
       " Row(userId='100010', registration=1538016340000, ts=1540045376000, page='NextSong', song='Drive'),\n",
       " Row(userId='100010', registration=1538016340000, ts=1540045400000, page='Roll Advert', song=None),\n",
       " Row(userId='100010', registration=1538016340000, ts=1540045573000, page='NextSong', song='My Heart Will Go On'),\n",
       " Row(userId='100010', registration=1538016340000, ts=1540045853000, page='NextSong', song='Tides'),\n",
       " Row(userId='100010', registration=1538016340000, ts=1540046041000, page='NextSong', song='I Need You'),\n",
       " Row(userId='100010', registration=1538016340000, ts=1540046274000, page='NextSong', song='Mary Anne With The Shaky Hand'),\n",
       " Row(userId='100010', registration=1538016340000, ts=1540046416000, page='NextSong', song='ExpediciÃ\\x83Â³n Al Klama Hama'),\n",
       " Row(userId='100010', registration=1538016340000, ts=1540046417000, page='Roll Advert', song=None),\n",
       " Row(userId='100010', registration=1538016340000, ts=1540046729000, page='NextSong', song='Las Chicas'),\n",
       " Row(userId='100010', registration=1538016340000, ts=1540046729000, page='Add to Playlist', song=None),\n",
       " Row(userId='100010', registration=1538016340000, ts=1540046988000, page='NextSong', song='Talk Of The Town'),\n",
       " Row(userId='100010', registration=1538016340000, ts=1540047107000, page='Home', song=None),\n",
       " Row(userId='100010', registration=1538016340000, ts=1540047181000, page='NextSong', song='Double Dolphins On The Nickel'),\n",
       " Row(userId='100010', registration=1538016340000, ts=1540047505000, page='NextSong', song='Pass The Dutchie'),\n",
       " Row(userId='100010', registration=1538016340000, ts=1540047706000, page='NextSong', song='Revelry'),\n",
       " Row(userId='100010', registration=1538016340000, ts=1540047907000, page='NextSong', song='Big Timber'),\n",
       " Row(userId='100010', registration=1538016340000, ts=1540047908000, page='Thumbs Up', song=None),\n",
       " Row(userId='100010', registration=1538016340000, ts=1540048147000, page='NextSong', song=\"Ain't It Fun\"),\n",
       " Row(userId='100010', registration=1538016340000, ts=1540048453000, page='NextSong', song='Insane'),\n",
       " Row(userId='100010', registration=1538016340000, ts=1540048634000, page='NextSong', song='She Wants To Move (Explicit)'),\n",
       " Row(userId='100010', registration=1538016340000, ts=1540048850000, page='NextSong', song='Falling Down'),\n",
       " Row(userId='100010', registration=1538016340000, ts=1540049034000, page='NextSong', song=\"Let's Live For Today\"),\n",
       " Row(userId='100010', registration=1538016340000, ts=1540049200000, page='NextSong', song='Undo'),\n",
       " Row(userId='100010', registration=1538016340000, ts=1540049246000, page='Roll Advert', song=None),\n",
       " Row(userId='100010', registration=1538016340000, ts=1540049548000, page='NextSong', song='Intro'),\n",
       " Row(userId='100010', registration=1538016340000, ts=1540049614000, page='NextSong', song='Vuelvo Al Sur'),\n",
       " Row(userId='100010', registration=1538016340000, ts=1540050033000, page='NextSong', song='Ground zero'),\n",
       " Row(userId='100010', registration=1538016340000, ts=1540050396000, page='NextSong', song='Civic Bloodlust'),\n",
       " Row(userId='100010', registration=1538016340000, ts=1540050479000, page='NextSong', song='Hang On To This'),\n",
       " Row(userId='100010', registration=1538016340000, ts=1540050731000, page='NextSong', song='MOSKAU'),\n",
       " Row(userId='100010', registration=1538016340000, ts=1540050731000, page='Roll Advert', song=None),\n",
       " Row(userId='100010', registration=1538016340000, ts=1540050987000, page='NextSong', song='Chinese'),\n",
       " Row(userId='100010', registration=1538016340000, ts=1540050988000, page='Thumbs Up', song=None),\n",
       " Row(userId='100010', registration=1538016340000, ts=1540051194000, page='NextSong', song='Chasing Cars'),\n",
       " Row(userId='100010', registration=1538016340000, ts=1540051468000, page='NextSong', song='Every Time I Look At You (Album Version)'),\n",
       " Row(userId='100010', registration=1538016340000, ts=1540051645000, page='NextSong', song='Ojos de cielo'),\n",
       " Row(userId='100010', registration=1538016340000, ts=1540051646000, page='Roll Advert', song=None),\n",
       " Row(userId='100010', registration=1538016340000, ts=1540051900000, page='NextSong', song='Sex On The Beach (Paolo Ortelli vs Degree Reloaded Video Edit)'),\n",
       " Row(userId='100010', registration=1538016340000, ts=1540052081000, page='NextSong', song='Me Pregunto'),\n",
       " Row(userId='100010', registration=1538016340000, ts=1540052098000, page='Roll Advert', song=None),\n",
       " Row(userId='100010', registration=1538016340000, ts=1540052268000, page='NextSong', song='Like Me (Amended Version)'),\n",
       " Row(userId='100010', registration=1538016340000, ts=1540052506000, page='NextSong', song='Use Somebody'),\n",
       " Row(userId='100010', registration=1538016340000, ts=1540052737000, page='NextSong', song='West One (Shine On Me)'),\n",
       " Row(userId='100010', registration=1538016340000, ts=1540053075000, page='NextSong', song=\"Ain't Misbehavin\"),\n",
       " Row(userId='100010', registration=1538016340000, ts=1540053197000, page='NextSong', song='Torn'),\n",
       " Row(userId='100010', registration=1538016340000, ts=1540053440000, page='NextSong', song='Square One Here I Come'),\n",
       " Row(userId='100010', registration=1538016340000, ts=1540053458000, page='Roll Advert', song=None),\n",
       " Row(userId='100010', registration=1538016340000, ts=1540053630000, page='NextSong', song=\"I Can't Dance\"),\n",
       " Row(userId='100010', registration=1538016340000, ts=1540053867000, page='NextSong', song='Back To Black'),\n",
       " Row(userId='100010', registration=1538016340000, ts=1540054107000, page='NextSong', song='The Shocker'),\n",
       " Row(userId='100010', registration=1538016340000, ts=1540054357000, page='NextSong', song='Dogs Rule The Night ( LP Version )'),\n",
       " Row(userId='100010', registration=1538016340000, ts=1540054559000, page='NextSong', song='Let Me Be Your Fantasy'),\n",
       " Row(userId='100010', registration=1538016340000, ts=1540054589000, page='Roll Advert', song=None),\n",
       " Row(userId='100010', registration=1538016340000, ts=1540054779000, page='NextSong', song='Whatsername [feat. Green Day & The Cast Of American Idiot] (Album Version)'),\n",
       " Row(userId='100010', registration=1538016340000, ts=1540055021000, page='NextSong', song='Taj Mahal'),\n",
       " Row(userId='100010', registration=1538016340000, ts=1540055026000, page='Upgrade', song=None),\n",
       " Row(userId='100010', registration=1538016340000, ts=1540055027000, page='Add Friend', song=None),\n",
       " Row(userId='100010', registration=1538016340000, ts=1540055028000, page='Add Friend', song=None),\n",
       " Row(userId='100010', registration=1538016340000, ts=1541411290000, page='NextSong', song=\"I CAN'T GET STARTED\"),\n",
       " Row(userId='100010', registration=1538016340000, ts=1541411787000, page='NextSong', song='Si Supieras'),\n",
       " Row(userId='100010', registration=1538016340000, ts=1541412041000, page='NextSong', song='Chronosphere'),\n",
       " Row(userId='100010', registration=1538016340000, ts=1541412255000, page='NextSong', song='Matricide'),\n",
       " Row(userId='100010', registration=1538016340000, ts=1541412256000, page='Thumbs Down', song=None),\n",
       " Row(userId='100010', registration=1538016340000, ts=1541412575000, page='NextSong', song='Adelaide'),\n",
       " Row(userId='100010', registration=1538016340000, ts=1541412769000, page='NextSong', song='Learn To Fly'),\n",
       " Row(userId='100010', registration=1538016340000, ts=1541413004000, page='NextSong', song='Want You To Know Me'),\n",
       " Row(userId='100010', registration=1538016340000, ts=1541413023000, page='Roll Advert', song=None),\n",
       " Row(userId='100010', registration=1538016340000, ts=1541413293000, page='NextSong', song='Warning Sign'),\n",
       " Row(userId='100010', registration=1538016340000, ts=1541413294000, page='Thumbs Up', song=None),\n",
       " Row(userId='100010', registration=1538016340000, ts=1541413624000, page='NextSong', song='Human'),\n",
       " Row(userId='100010', registration=1538016340000, ts=1541413984000, page='NextSong', song='Isoders Dronning'),\n",
       " Row(userId='100010', registration=1538016340000, ts=1541414448000, page='NextSong', song='You Hid'),\n",
       " Row(userId='100010', registration=1538016340000, ts=1541414452000, page='Roll Advert', song=None),\n",
       " Row(userId='100010', registration=1538016340000, ts=1541414652000, page='NextSong', song='Money'),\n",
       " Row(userId='100010', registration=1538016340000, ts=1541414666000, page='Roll Advert', song=None),\n",
       " Row(userId='100010', registration=1538016340000, ts=1541414872000, page='NextSong', song='Some Are White Light'),\n",
       " Row(userId='100010', registration=1538016340000, ts=1541414875000, page='Roll Advert', song=None),\n",
       " Row(userId='100010', registration=1538016340000, ts=1541415198000, page='NextSong', song='Kaaos ei karkaa'),\n",
       " Row(userId='100010', registration=1538016340000, ts=1541415421000, page='NextSong', song='Sexy Chick (Featuring Akon)'),\n",
       " Row(userId='100010', registration=1538016340000, ts=1541415422000, page='Logout', song=None),\n",
       " Row(userId='100010', registration=1538016340000, ts=1541415434000, page='Home', song=None),\n",
       " Row(userId='100010', registration=1538016340000, ts=1541415613000, page='NextSong', song=\"It's All Good\"),\n",
       " Row(userId='100010', registration=1538016340000, ts=1541415794000, page='NextSong', song='Creature Fear'),\n",
       " Row(userId='100010', registration=1538016340000, ts=1541415845000, page='Roll Advert', song=None),\n",
       " Row(userId='100010', registration=1538016340000, ts=1541415980000, page='NextSong', song='No Surprise'),\n",
       " Row(userId='100010', registration=1538016340000, ts=1541416229000, page='NextSong', song='Definition Of Destiny'),\n",
       " Row(userId='100010', registration=1538016340000, ts=1541416471000, page='NextSong', song=\"You're Mine\"),\n",
       " Row(userId='100010', registration=1538016340000, ts=1541416780000, page='NextSong', song=\"Freedom Ain't Free\"),\n",
       " Row(userId='100010', registration=1538016340000, ts=1541416996000, page='NextSong', song='Here_ There And Everywhere'),\n",
       " Row(userId='100010', registration=1538016340000, ts=1541417248000, page='NextSong', song='How Low'),\n",
       " Row(userId='100010', registration=1538016340000, ts=1541417249000, page='Thumbs Up', song=None),\n",
       " Row(userId='100010', registration=1538016340000, ts=1541417408000, page='NextSong', song='Break Time (Recorded at a Polish Wedding)'),\n",
       " Row(userId='100010', registration=1538016340000, ts=1541417468000, page='NextSong', song='Waiting On The World To Change'),\n",
       " Row(userId='100010', registration=1538016340000, ts=1541417669000, page='NextSong', song='Never There'),\n",
       " Row(userId='100010', registration=1538016340000, ts=1541417833000, page='NextSong', song='Hello'),\n",
       " Row(userId='100010', registration=1538016340000, ts=1541418053000, page='NextSong', song='Bagpipes From Baghdad'),\n",
       " Row(userId='100010', registration=1538016340000, ts=1541418054000, page='Add to Playlist', song=None),\n",
       " Row(userId='100010', registration=1538016340000, ts=1541418336000, page='NextSong', song='My Love Will Follow You'),\n",
       " Row(userId='100010', registration=1538016340000, ts=1541418358000, page='Home', song=None),\n",
       " Row(userId='100010', registration=1538016340000, ts=1541418359000, page='Add Friend', song=None),\n",
       " Row(userId='100010', registration=1538016340000, ts=1541418534000, page='NextSong', song='Better To Reign In Hell'),\n",
       " Row(userId='100010', registration=1538016340000, ts=1541418905000, page='NextSong', song='Vincent'),\n",
       " Row(userId='100010', registration=1538016340000, ts=1541419148000, page='NextSong', song='Come Again (Album Version)'),\n",
       " Row(userId='100010', registration=1538016340000, ts=1541419488000, page='NextSong', song='Float On'),\n",
       " Row(userId='100010', registration=1538016340000, ts=1541419489000, page='Thumbs Down', song=None),\n",
       " Row(userId='100010', registration=1538016340000, ts=1541419697000, page='NextSong', song='The Hills Have Eyes'),\n",
       " Row(userId='100010', registration=1538016340000, ts=1541419708000, page='Roll Advert', song=None),\n",
       " Row(userId='100010', registration=1538016340000, ts=1541419901000, page='NextSong', song='Octavo DÃ\\x83Â\\xada'),\n",
       " Row(userId='100010', registration=1538016340000, ts=1541420264000, page='NextSong', song='Did It Again (featuring Kid Cudi)'),\n",
       " Row(userId='100010', registration=1538016340000, ts=1541420491000, page='NextSong', song='Nothing I Can Do'),\n",
       " Row(userId='100010', registration=1538016340000, ts=1541420708000, page='NextSong', song='Horn Concerto No. 4 in E flat K495: II. Romance (Andante cantabile)'),\n",
       " Row(userId='100010', registration=1538016340000, ts=1541420985000, page='NextSong', song='How Do You Know You?'),\n",
       " Row(userId='100010', registration=1538016340000, ts=1541421322000, page='NextSong', song='Superman'),\n",
       " Row(userId='100010', registration=1538016340000, ts=1541421672000, page='NextSong', song=\"You've Got The Love\"),\n",
       " Row(userId='100010', registration=1538016340000, ts=1541421840000, page='NextSong', song='Nine Times Out Of Ten (1998 Digital Remaster)'),\n",
       " Row(userId='100010', registration=1538016340000, ts=1541421970000, page='NextSong', song='Monster'),\n",
       " Row(userId='100010', registration=1538016340000, ts=1541421971000, page='Thumbs Up', song=None),\n",
       " Row(userId='100010', registration=1538016340000, ts=1541422219000, page='NextSong', song='Zit'),\n",
       " Row(userId='100010', registration=1538016340000, ts=1541422225000, page='Roll Advert', song=None),\n",
       " Row(userId='100010', registration=1538016340000, ts=1541422336000, page='NextSong', song='Overload'),\n",
       " Row(userId='100010', registration=1538016340000, ts=1541422355000, page='Roll Advert', song=None),\n",
       " Row(userId='100010', registration=1538016340000, ts=1541422611000, page='NextSong', song='Crumpshit'),\n",
       " Row(userId='100010', registration=1538016340000, ts=1541422971000, page='NextSong', song='Your Place In The World'),\n",
       " Row(userId='100010', registration=1538016340000, ts=1541423275000, page='NextSong', song='The Wine Song'),\n",
       " Row(userId='100010', registration=1538016340000, ts=1541423303000, page='Roll Advert', song=None),\n",
       " Row(userId='100010', registration=1538016340000, ts=1541423716000, page='NextSong', song='Yesterdays'),\n",
       " Row(userId='100010', registration=1538016340000, ts=1541423910000, page='NextSong', song='American Ride'),\n",
       " Row(userId='100010', registration=1538016340000, ts=1541423911000, page='Thumbs Up', song=None),\n",
       " Row(userId='100010', registration=1538016340000, ts=1541424077000, page='NextSong', song='The State Of Massachusetts'),\n",
       " Row(userId='100010', registration=1538016340000, ts=1541424085000, page='Help', song=None),\n",
       " Row(userId='100010', registration=1538016340000, ts=1541731560000, page='NextSong', song='Far Behind  (Album Version)'),\n",
       " Row(userId='100010', registration=1538016340000, ts=1541731859000, page='NextSong', song='Men SeÃ\\x83Â±arÃ\\x83Â¡'),\n",
       " Row(userId='100010', registration=1538016340000, ts=1541731895000, page='About', song=None),\n",
       " Row(userId='100010', registration=1538016340000, ts=1541732084000, page='NextSong', song='Bitter Sweet Symphony'),\n",
       " Row(userId='100010', registration=1538016340000, ts=1541732444000, page='NextSong', song='Dragon Queen'),\n",
       " Row(userId='100010', registration=1538016340000, ts=1541732445000, page='Roll Advert', song=None),\n",
       " Row(userId='100010', registration=1538016340000, ts=1541732686000, page='NextSong', song='Halo'),\n",
       " Row(userId='100010', registration=1538016340000, ts=1541732947000, page='NextSong', song='Last One'),\n",
       " Row(userId='100010', registration=1538016340000, ts=1541733431000, page='NextSong', song='Black Is My Color'),\n",
       " Row(userId='100010', registration=1538016340000, ts=1541733432000, page='Roll Advert', song=None),\n",
       " Row(userId='100010', registration=1538016340000, ts=1541733577000, page='NextSong', song='Deeply Disturbed'),\n",
       " Row(userId='100010', registration=1538016340000, ts=1541734083000, page='NextSong', song='Fugue (A Revelation)'),\n",
       " Row(userId='100010', registration=1538016340000, ts=1541734344000, page='NextSong', song='Creation Lake'),\n",
       " Row(userId='100010', registration=1538016340000, ts=1541734567000, page='NextSong', song='Blessed Be Your Name'),\n",
       " Row(userId='100010', registration=1538016340000, ts=1541734795000, page='NextSong', song=\"I'm Not Calling You A Liar\"),\n",
       " Row(userId='100010', registration=1538016340000, ts=1541734803000, page='Roll Advert', song=None),\n",
       " Row(userId='100010', registration=1538016340000, ts=1541734980000, page='NextSong', song='Always Remember'),\n",
       " Row(userId='100010', registration=1538016340000, ts=1541734981000, page='Thumbs Up', song=None),\n",
       " Row(userId='100010', registration=1538016340000, ts=1541735193000, page='NextSong', song='Me Amo'),\n",
       " Row(userId='100010', registration=1538016340000, ts=1541735396000, page='NextSong', song='Love Is All Around'),\n",
       " Row(userId='100010', registration=1538016340000, ts=1541735633000, page='NextSong', song='Requien Para Uma Flor'),\n",
       " Row(userId='100010', registration=1538016340000, ts=1541735647000, page='Home', song=None),\n",
       " Row(userId='100010', registration=1538016340000, ts=1541735766000, page='NextSong', song='I Am With Her Where The Avalanche Begins'),\n",
       " Row(userId='100010', registration=1538016340000, ts=1541735767000, page='Thumbs Down', song=None),\n",
       " Row(userId='100010', registration=1538016340000, ts=1541736083000, page='NextSong', song='Fireflies'),\n",
       " Row(userId='100010', registration=1538016340000, ts=1541736308000, page='NextSong', song='Sayonara-Nostalgia'),\n",
       " Row(userId='100010', registration=1538016340000, ts=1541736312000, page='Roll Advert', song=None),\n",
       " Row(userId='100010', registration=1538016340000, ts=1541736313000, page='Roll Advert', song=None),\n",
       " Row(userId='100010', registration=1538016340000, ts=1541736563000, page='NextSong', song='Is This It'),\n",
       " Row(userId='100010', registration=1538016340000, ts=1541736714000, page='NextSong', song='Miracle'),\n",
       " Row(userId='100010', registration=1538016340000, ts=1541736923000, page='NextSong', song='Wild Love'),\n",
       " Row(userId='100010', registration=1538016340000, ts=1541737111000, page='NextSong', song='Speedy Tours'),\n",
       " Row(userId='100010', registration=1538016340000, ts=1541737632000, page='NextSong', song='Nearly Home'),\n",
       " Row(userId='100010', registration=1538016340000, ts=1541737963000, page='NextSong', song=\"Build God_ Then We'll Talk (Album Version)\"),\n",
       " Row(userId='100010', registration=1538016340000, ts=1541738183000, page='NextSong', song='16 Candles'),\n",
       " Row(userId='100010', registration=1538016340000, ts=1541738365000, page='NextSong', song='It Was A Good Day'),\n",
       " Row(userId='100010', registration=1538016340000, ts=1541738617000, page='NextSong', song='Alpha Beta Gaga'),\n",
       " Row(userId='100010', registration=1538016340000, ts=1541738895000, page='NextSong', song='Si Te Vas'),\n",
       " Row(userId='100010', registration=1538016340000, ts=1541738896000, page='Thumbs Up', song=None),\n",
       " Row(userId='100010', registration=1538016340000, ts=1541739181000, page='NextSong', song='I Beg Your Pardon'),\n",
       " Row(userId='100010', registration=1538016340000, ts=1541739448000, page='NextSong', song='The Good Soldier'),\n",
       " Row(userId='100010', registration=1538016340000, ts=1541739651000, page='NextSong', song='The Theme'),\n",
       " Row(userId='100010', registration=1538016340000, ts=1541740023000, page='NextSong', song='Stuck With You'),\n",
       " Row(userId='100010', registration=1538016340000, ts=1541740023000, page='Roll Advert', song=None),\n",
       " Row(userId='100010', registration=1538016340000, ts=1541740292000, page='NextSong', song='The Walls Are Coming Down'),\n",
       " Row(userId='100010', registration=1538016340000, ts=1541740305000, page='Roll Advert', song=None),\n",
       " Row(userId='100010', registration=1538016340000, ts=1541740547000, page='NextSong', song='All You Ever Wanted'),\n",
       " Row(userId='100010', registration=1538016340000, ts=1541740557000, page='Roll Advert', song=None),\n",
       " Row(userId='100010', registration=1538016340000, ts=1541740723000, page='NextSong', song='I Got Mine'),\n",
       " Row(userId='100010', registration=1538016340000, ts=1541740962000, page='NextSong', song='Beautiful Day Without You'),\n",
       " Row(userId='100010', registration=1538016340000, ts=1541741293000, page='NextSong', song='Rock N Roll Nigger'),\n",
       " Row(userId='100010', registration=1538016340000, ts=1541741494000, page='NextSong', song='Drive'),\n",
       " Row(userId='100010', registration=1538016340000, ts=1541741726000, page='NextSong', song='Born Of A Broken Man'),\n",
       " Row(userId='100010', registration=1538016340000, ts=1541741986000, page='NextSong', song='Times Like These'),\n",
       " Row(userId='100010', registration=1538016340000, ts=1541742127000, page='NextSong', song='Colgando en tus manos (con Marta Sanchez)'),\n",
       " Row(userId='100010', registration=1538016340000, ts=1541742359000, page='NextSong', song=\"Hey Daddy (Daddy's Home)\"),\n",
       " Row(userId='100010', registration=1538016340000, ts=1541742360000, page='Thumbs Up', song=None),\n",
       " Row(userId='100010', registration=1538016340000, ts=1541742583000, page='NextSong', song='Wicked Way'),\n",
       " Row(userId='100010', registration=1538016340000, ts=1541742730000, page='NextSong', song='Against The Grain'),\n",
       " Row(userId='100010', registration=1538016340000, ts=1541742958000, page='NextSong', song='Leaving Home'),\n",
       " Row(userId='100010', registration=1538016340000, ts=1541743013000, page='Roll Advert', song=None),\n",
       " Row(userId='100010', registration=1538016340000, ts=1541743404000, page='NextSong', song=\"Born In The 50's\"),\n",
       " Row(userId='100010', registration=1538016340000, ts=1541743415000, page='Add to Playlist', song=None),\n",
       " Row(userId='100010', registration=1538016340000, ts=1541743626000, page='NextSong', song='Horn Concerto No. 4 in E flat K495: II. Romance (Andante cantabile)'),\n",
       " Row(userId='100010', registration=1538016340000, ts=1541743650000, page='Roll Advert', song=None),\n",
       " Row(userId='100010', registration=1538016340000, ts=1541743686000, page='Roll Advert', song=None),\n",
       " Row(userId='100010', registration=1538016340000, ts=1541743903000, page='NextSong', song='Surrender To Me'),\n",
       " Row(userId='100010', registration=1538016340000, ts=1541744236000, page='NextSong', song='American Soldier'),\n",
       " Row(userId='100010', registration=1538016340000, ts=1541744238000, page='Roll Advert', song=None),\n",
       " Row(userId='100010', registration=1538016340000, ts=1541744499000, page='NextSong', song='Big My Secret'),\n",
       " Row(userId='100010', registration=1538016340000, ts=1541744538000, page='Roll Advert', song=None),\n",
       " Row(userId='100010', registration=1538016340000, ts=1541744672000, page='NextSong', song='All I Do Is Win (feat. T-Pain_ Ludacris_ Snoop Dogg & Rick Ross)'),\n",
       " Row(userId='100010', registration=1538016340000, ts=1541744899000, page='NextSong', song='Time To Pretend'),\n",
       " Row(userId='100010', registration=1538016340000, ts=1541745163000, page='NextSong', song='Un Mot de Toi'),\n",
       " Row(userId='100010', registration=1538016340000, ts=1541745391000, page='NextSong', song='So Says I'),\n",
       " Row(userId='100010', registration=1538016340000, ts=1541745407000, page='Roll Advert', song=None),\n",
       " Row(userId='100010', registration=1538016340000, ts=1541745560000, page='NextSong', song='Scraper'),\n",
       " Row(userId='100010', registration=1538016340000, ts=1541745566000, page='Roll Advert', song=None),\n",
       " Row(userId='100010', registration=1538016340000, ts=1541745783000, page='NextSong', song='Between Two Lungs'),\n",
       " Row(userId='100010', registration=1538016340000, ts=1541745788000, page='Roll Advert', song=None),\n",
       " Row(userId='100010', registration=1538016340000, ts=1541746032000, page='NextSong', song='CAFÃ\\x83Â\\x89 CRÃ\\x83Â\\x88ME'),\n",
       " Row(userId='100010', registration=1538016340000, ts=1541746205000, page='NextSong', song='Logan to Government Center'),\n",
       " Row(userId='100010', registration=1538016340000, ts=1541746387000, page='NextSong', song='Look At Me'),\n",
       " Row(userId='100010', registration=1538016340000, ts=1541746582000, page='NextSong', song='Like Inobe God'),\n",
       " Row(userId='100010', registration=1538016340000, ts=1541746584000, page='Add to Playlist', song=None),\n",
       " Row(userId='100010', registration=1538016340000, ts=1541746932000, page='NextSong', song=\"Doesn't Remind Me\"),\n",
       " Row(userId='100010', registration=1538016340000, ts=1541747188000, page='NextSong', song='How I (Learned My Lessons) (LP Version)'),\n",
       " Row(userId='100010', registration=1538016340000, ts=1541747322000, page='NextSong', song='Waiting For A Dream'),\n",
       " Row(userId='100010', registration=1538016340000, ts=1541747576000, page='NextSong', song='Falling Awake'),\n",
       " Row(userId='100010', registration=1538016340000, ts=1541747590000, page='Roll Advert', song=None),\n",
       " Row(userId='100010', registration=1538016340000, ts=1541747685000, page='NextSong', song='Here Without You'),\n",
       " Row(userId='100010', registration=1538016340000, ts=1541747922000, page='NextSong', song='Perverted World'),\n",
       " Row(userId='100010', registration=1538016340000, ts=1541747923000, page='Thumbs Up', song=None),\n",
       " Row(userId='100010', registration=1538016340000, ts=1541748037000, page='NextSong', song=\"Heart Attack '64\"),\n",
       " Row(userId='100010', registration=1538016340000, ts=1541748113000, page='Add to Playlist', song=None),\n",
       " Row(userId='100010', registration=1538016340000, ts=1541748252000, page='NextSong', song='Smiling Off (Luomo Remix)'),\n",
       " Row(userId='100010', registration=1538016340000, ts=1541748274000, page='Roll Advert', song=None),\n",
       " Row(userId='100010', registration=1538016340000, ts=1541748790000, page='NextSong', song='Gears'),\n",
       " Row(userId='100010', registration=1538016340000, ts=1541749029000, page='NextSong', song='Sweet Afton'),\n",
       " Row(userId='100010', registration=1538016340000, ts=1541749366000, page='NextSong', song=\"I'd Like To Love You Baby\"),\n",
       " Row(userId='100010', registration=1538016340000, ts=1541749370000, page='Roll Advert', song=None),\n",
       " Row(userId='100010', registration=1538016340000, ts=1541749536000, page='NextSong', song='TÃ\\x83Âºl sok a kirÃ\\x83Â¡ly'),\n",
       " Row(userId='100010', registration=1538016340000, ts=1541749667000, page='NextSong', song=\"It's My Life\"),\n",
       " Row(userId='100010', registration=1538016340000, ts=1541749891000, page='NextSong', song='Forever My Friend'),\n",
       " Row(userId='100010', registration=1538016340000, ts=1541750235000, page='NextSong', song='Picture Perfect'),\n",
       " Row(userId='100010', registration=1538016340000, ts=1541750488000, page='NextSong', song='Shot You Down (Radio Edit) (Feat. Nancy Sinatra)'),\n",
       " Row(userId='100010', registration=1538016340000, ts=1541750489000, page='Thumbs Up', song=None),\n",
       " Row(userId='100010', registration=1538016340000, ts=1541750665000, page='NextSong', song='Mi Marfil'),\n",
       " Row(userId='100010', registration=1538016340000, ts=1541750730000, page='NextSong', song='Jersey (Album)'),\n",
       " Row(userId='100010', registration=1538016340000, ts=1541750743000, page='Home', song=None),\n",
       " Row(userId='100010', registration=1538016340000, ts=1541750939000, page='NextSong', song='More'),\n",
       " Row(userId='100010', registration=1538016340000, ts=1541750940000, page='Logout', song=None),\n",
       " Row(userId='100010', registration=1538016340000, ts=1542818132000, page='Home', song=None),\n",
       " Row(userId='100010', registration=1538016340000, ts=1542818148000, page='NextSong', song='Lightning Rod (Album Version)'),\n",
       " Row(userId='100010', registration=1538016340000, ts=1542818160000, page='Add to Playlist', song=None),\n",
       " Row(userId='100010', registration=1538016340000, ts=1542818323000, page='NextSong', song='Una Confusion'),\n",
       " Row(userId='100010', registration=1538016340000, ts=1542818644000, page='NextSong', song='Cockney Thug'),\n",
       " Row(userId='100010', registration=1538016340000, ts=1542818892000, page='NextSong', song='Catch You Baby (Steve Pitron & Max Sanna Radio Edit)'),\n",
       " Row(userId='100010', registration=1538016340000, ts=1542819073000, page='NextSong', song='A Flame For Freedom (Album Version)'),\n",
       " Row(userId='100010', registration=1538016340000, ts=1542819128000, page='Roll Advert', song=None),\n",
       " Row(userId='100010', registration=1538016340000, ts=1542819143000, page='Upgrade', song=None),\n",
       " Row(userId='100010', registration=1538016340000, ts=1542819393000, page='NextSong', song='Time'),\n",
       " Row(userId='100010', registration=1538016340000, ts=1542819621000, page='NextSong', song='Count It!'),\n",
       " Row(userId='100010', registration=1538016340000, ts=1542819682000, page='NextSong', song='Flashing Lights'),\n",
       " Row(userId='100010', registration=1538016340000, ts=1542819919000, page='NextSong', song='Love In This Club Part II'),\n",
       " Row(userId='100010', registration=1538016340000, ts=1542819920000, page='Thumbs Down', song=None),\n",
       " Row(userId='100010', registration=1538016340000, ts=1542820179000, page='NextSong', song='Up Side Down (Explicit)'),\n",
       " Row(userId='100010', registration=1538016340000, ts=1542820180000, page='Thumbs Up', song=None),\n",
       " Row(userId='100010', registration=1538016340000, ts=1542820437000, page='NextSong', song='MIC (Speak Life Album Version)'),\n",
       " Row(userId='100010', registration=1538016340000, ts=1542820651000, page='NextSong', song='Dead And Gone [feat. Justin Timberlake] (Explicit Album Version)'),\n",
       " Row(userId='100010', registration=1538016340000, ts=1542820950000, page='NextSong', song='We Came Along This Road'),\n",
       " Row(userId='100010', registration=1538016340000, ts=1542821317000, page='NextSong', song='Angela (Theme From \"Taxi\")'),\n",
       " Row(userId='100010', registration=1538016340000, ts=1542821662000, page='NextSong', song='Already Gone'),\n",
       " Row(userId='100010', registration=1538016340000, ts=1542821943000, page='NextSong', song='All I Do Is Win (feat. T-Pain_ Ludacris_ Snoop Dogg & Rick Ross)'),\n",
       " Row(userId='100010', registration=1538016340000, ts=1542821944000, page='Thumbs Up', song=None),\n",
       " Row(userId='100010', registration=1538016340000, ts=1542822170000, page='NextSong', song='Luxurious'),\n",
       " Row(userId='100010', registration=1538016340000, ts=1542822434000, page='NextSong', song='Kiss N Tell'),\n",
       " Row(userId='100010', registration=1538016340000, ts=1542822641000, page='NextSong', song='Walking On The Moon'),\n",
       " Row(userId='100010', registration=1538016340000, ts=1542822946000, page='NextSong', song='Taking My Ball'),\n",
       " Row(userId='100010', registration=1538016340000, ts=1542823248000, page='NextSong', song='Alley Cats'),\n",
       " Row(userId='100010', registration=1538016340000, ts=1542823257000, page='Roll Advert', song=None),\n",
       " Row(userId='100010', registration=1538016340000, ts=1542823567000, page='NextSong', song='Letters From Madrid'),\n",
       " Row(userId='100010', registration=1538016340000, ts=1542823682000, page='NextSong', song='Missing You'),\n",
       " Row(userId='100010', registration=1538016340000, ts=1542823951000, page='NextSong', song='22'),\n",
       " Row(userId='100010', registration=1538016340000, ts=1542823952000, page='Logout', song=None)]"
      ]
     },
     "execution_count": 19,
     "metadata": {},
     "output_type": "execute_result"
    }
   ],
   "source": [
    "# Lets look at the logs of a particular user\n",
    "user_log_valid.select([\"userId\", \"registration\", \"ts\", \"page\", \"song\"]).where(user_log_valid.userId == \"100010\").collect()"
   ]
  },
  {
   "cell_type": "code",
   "execution_count": 20,
   "metadata": {},
   "outputs": [
    {
     "data": {
      "text/plain": [
       "17656"
      ]
     },
     "execution_count": 20,
     "metadata": {},
     "output_type": "execute_result"
    }
   ],
   "source": [
    "user_log_valid.select('artist').distinct().count()"
   ]
  },
  {
   "cell_type": "code",
   "execution_count": 21,
   "metadata": {},
   "outputs": [
    {
     "name": "stdout",
     "output_type": "stream",
     "text": [
      "+---------------------------------------------------+\n",
      "|artist                                             |\n",
      "+---------------------------------------------------+\n",
      "|null                                               |\n",
      "|!!!                                                |\n",
      "|& And Oceans                                       |\n",
      "|'N Sync/Phil Collins                               |\n",
      "|'Til Tuesday                                       |\n",
      "|'t Hof Van Commerce                                |\n",
      "|'t Hof Van Commerce & Brahim                       |\n",
      "|(Love) Tattoo                                      |\n",
      "|(hed) p.e.                                         |\n",
      "|*NSYNC featuring Nelly                             |\n",
      "|+ / - {Plus/Minus}                                 |\n",
      "|+44                                                |\n",
      "|-123 minut                                         |\n",
      "|-123min.                                           |\n",
      "|...And Oceans                                      |\n",
      "|...And You Will Know Us By The Trail Of Dead       |\n",
      "|1 40 4 20                                          |\n",
      "|1 Giant Leap feat. Grant Lee Phillips & Horace Andy|\n",
      "|1 Giant Leap feat. Michael Stipe & Asha Bhosle     |\n",
      "|1 Giant Leap feat. Robbie Wlliams & Maxi Jazz      |\n",
      "|1 Giant Leap feat. Speech & Neneh Cherry           |\n",
      "|1 Giant Leap feat. The Mahotella Queens & Ulali    |\n",
      "|10 Years                                           |\n",
      "|10000 Maniacs                                      |\n",
      "|1000names                                          |\n",
      "|1001                                               |\n",
      "|108                                                |\n",
      "|10_000 Maniacs                                     |\n",
      "|10cc                                               |\n",
      "|112                                                |\n",
      "|113 Feat. Demon One                                |\n",
      "|12 Stones                                          |\n",
      "|1200 Micrograms                                    |\n",
      "|1200 Mics                                          |\n",
      "|12012                                              |\n",
      "|1349                                               |\n",
      "|13th Chime                                         |\n",
      "|16 Horsepower                                      |\n",
      "|16Volt                                             |\n",
      "|17 Hippies                                         |\n",
      "+---------------------------------------------------+\n",
      "only showing top 40 rows\n",
      "\n"
     ]
    }
   ],
   "source": [
    "# Check unique values for artist\n",
    "user_log_valid.select(\"artist\").dropDuplicates().sort(\"artist\").show(40, truncate=False)"
   ]
  },
  {
   "cell_type": "code",
   "execution_count": 22,
   "metadata": {},
   "outputs": [
    {
     "name": "stdout",
     "output_type": "stream",
     "text": [
      "+---------+\n",
      "|     auth|\n",
      "+---------+\n",
      "|Cancelled|\n",
      "|Logged In|\n",
      "+---------+\n",
      "\n"
     ]
    }
   ],
   "source": [
    "# Check unique values for auth\n",
    "user_log_valid.select(\"auth\").dropDuplicates().sort(\"auth\").show()"
   ]
  },
  {
   "cell_type": "code",
   "execution_count": 23,
   "metadata": {},
   "outputs": [
    {
     "name": "stdout",
     "output_type": "stream",
     "text": [
      "+------+\n",
      "|gender|\n",
      "+------+\n",
      "|     F|\n",
      "|     M|\n",
      "+------+\n",
      "\n"
     ]
    }
   ],
   "source": [
    "# Show unique values for gender\n",
    "user_log_valid.select(\"gender\").dropDuplicates().sort(\"gender\").show()"
   ]
  },
  {
   "cell_type": "code",
   "execution_count": 24,
   "metadata": {},
   "outputs": [
    {
     "name": "stdout",
     "output_type": "stream",
     "text": [
      "+-----+\n",
      "|level|\n",
      "+-----+\n",
      "| free|\n",
      "| paid|\n",
      "+-----+\n",
      "\n"
     ]
    }
   ],
   "source": [
    "# Show unique values for level\n",
    "user_log_valid.select(\"level\").dropDuplicates().sort(\"level\").show()"
   ]
  },
  {
   "cell_type": "code",
   "execution_count": 25,
   "metadata": {},
   "outputs": [
    {
     "name": "stdout",
     "output_type": "stream",
     "text": [
      "+------+\n",
      "|method|\n",
      "+------+\n",
      "|   GET|\n",
      "|   PUT|\n",
      "+------+\n",
      "\n"
     ]
    }
   ],
   "source": [
    "# Show unique values for method\n",
    "user_log_valid.select(\"method\").dropDuplicates().sort(\"method\").show()"
   ]
  },
  {
   "cell_type": "markdown",
   "metadata": {},
   "source": [
    "### Defining Churn"
   ]
  },
  {
   "cell_type": "code",
   "execution_count": 26,
   "metadata": {},
   "outputs": [
    {
     "name": "stdout",
     "output_type": "stream",
     "text": [
      "+--------------+---------+---------+------+-------------+--------+---------+-----+---------------+------+--------+-------------+---------+---------+------+-------------+--------------------+------+-----+\n",
      "|        artist|     auth|firstName|gender|itemInSession|lastName|   length|level|       location|method|    page| registration|sessionId|     song|status|           ts|           userAgent|userId|churn|\n",
      "+--------------+---------+---------+------+-------------+--------+---------+-----+---------------+------+--------+-------------+---------+---------+------+-------------+--------------------+------+-----+\n",
      "|Martha Tilston|Logged In|    Colin|     M|           50| Freeman|277.89016| paid|Bakersfield, CA|   PUT|NextSong|1538173362000|       29|Rockpools|   200|1538352117000|Mozilla/5.0 (Wind...|    30|    0|\n",
      "+--------------+---------+---------+------+-------------+--------+---------+-----+---------------+------+--------+-------------+---------+---------+------+-------------+--------------------+------+-----+\n",
      "only showing top 1 row\n",
      "\n"
     ]
    }
   ],
   "source": [
    "# Add new churn column - set default to 0\n",
    "user_log_valid = user_log_valid.withColumn(\"churn\", lit(0))\n",
    "user_log_valid.show(1)"
   ]
  },
  {
   "cell_type": "code",
   "execution_count": 27,
   "metadata": {},
   "outputs": [
    {
     "name": "stdout",
     "output_type": "stream",
     "text": [
      "+------+---------+---------+------+-------------+--------+------+-----+--------------------+------+--------------------+-------------+---------+----+------+-------------+--------------------+------+-----+\n",
      "|artist|     auth|firstName|gender|itemInSession|lastName|length|level|            location|method|                page| registration|sessionId|song|status|           ts|           userAgent|userId|churn|\n",
      "+------+---------+---------+------+-------------+--------+------+-----+--------------------+------+--------------------+-------------+---------+----+------+-------------+--------------------+------+-----+\n",
      "|  null|Cancelled|   Adriel|     M|          104| Mendoza|  null| paid|  Kansas City, MO-KS|   GET|Cancellation Conf...|1535623466000|      514|null|   200|1538943990000|\"Mozilla/5.0 (Mac...|    18|    0|\n",
      "|  null|Cancelled|    Diego|     M|           56|   Mckee|  null| paid|Phoenix-Mesa-Scot...|   GET|Cancellation Conf...|1537167593000|      540|null|   200|1539033046000|\"Mozilla/5.0 (iPh...|    32|    0|\n",
      "|  null|Cancelled|    Mason|     M|           10|    Hart|  null| free|  Corpus Christi, TX|   GET|Cancellation Conf...|1533157139000|      174|null|   200|1539318918000|\"Mozilla/5.0 (Mac...|   125|    0|\n",
      "+------+---------+---------+------+-------------+--------+------+-----+--------------------+------+--------------------+-------------+---------+----+------+-------------+--------------------+------+-----+\n",
      "only showing top 3 rows\n",
      "\n"
     ]
    }
   ],
   "source": [
    "# Find users who cancelled\n",
    "churned = user_log_valid.filter(\"page = 'Cancellation Confirmation'\")\n",
    "churned.show(3)"
   ]
  },
  {
   "cell_type": "code",
   "execution_count": 28,
   "metadata": {},
   "outputs": [
    {
     "name": "stdout",
     "output_type": "stream",
     "text": [
      "52\n",
      "173\n"
     ]
    }
   ],
   "source": [
    "# Find unique users that cancelled\n",
    "churned_userids = churned.select('userId').distinct()\n",
    "# Convert to list\n",
    "churned_userids_list = list(churned_userids.select('userId').toPandas()['userId'])\n",
    "# How many users cancelled & stayed?\n",
    "unique_users_cancelled = len(churned_userids_list)\n",
    "unique_users_stayed = unique_users_total - unique_users_cancelled\n",
    "print(unique_users_cancelled)\n",
    "print(unique_users_stayed)"
   ]
  },
  {
   "cell_type": "code",
   "execution_count": 29,
   "metadata": {},
   "outputs": [
    {
     "data": {
      "text/plain": [
       "['125',\n",
       " '51',\n",
       " '54',\n",
       " '100014',\n",
       " '101',\n",
       " '29',\n",
       " '100021',\n",
       " '87',\n",
       " '73',\n",
       " '3',\n",
       " '28',\n",
       " '100022',\n",
       " '100025',\n",
       " '300007',\n",
       " '100006',\n",
       " '18',\n",
       " '70',\n",
       " '100005',\n",
       " '17',\n",
       " '100007',\n",
       " '300001',\n",
       " '100009',\n",
       " '100015',\n",
       " '200024',\n",
       " '100003',\n",
       " '103',\n",
       " '100024',\n",
       " '53',\n",
       " '122',\n",
       " '200017',\n",
       " '58',\n",
       " '100011',\n",
       " '100019',\n",
       " '100012',\n",
       " '200018',\n",
       " '200016',\n",
       " '200020',\n",
       " '106',\n",
       " '143',\n",
       " '32',\n",
       " '200001',\n",
       " '105',\n",
       " '200011',\n",
       " '100023',\n",
       " '100013',\n",
       " '100017',\n",
       " '121',\n",
       " '12',\n",
       " '200015',\n",
       " '129',\n",
       " '200021',\n",
       " '100001']"
      ]
     },
     "execution_count": 29,
     "metadata": {},
     "output_type": "execute_result"
    }
   ],
   "source": [
    "# Show cancelled user ids\n",
    "churned_userids_list"
   ]
  },
  {
   "cell_type": "code",
   "execution_count": 30,
   "metadata": {},
   "outputs": [
    {
     "name": "stdout",
     "output_type": "stream",
     "text": [
      "+-------------+---------+---------+------+-------------+--------+---------+-----+--------------------+------+--------+-------------+---------+--------------------+------+-------------+--------------------+------+-----+\n",
      "|       artist|     auth|firstName|gender|itemInSession|lastName|   length|level|            location|method|    page| registration|sessionId|                song|status|           ts|           userAgent|userId|churn|\n",
      "+-------------+---------+---------+------+-------------+--------+---------+-----+--------------------+------+--------+-------------+---------+--------------------+------+-------------+--------------------+------+-----+\n",
      "|        Modjo|Logged In|    Alexi|     F|            0|  Warren|250.93179| paid|Spokane-Spokane V...|   PUT|NextSong|1532482662000|       53|         What I Mean|   200|1538353930000|Mozilla/5.0 (Wind...|    54|    1|\n",
      "|Edwyn Collins|Logged In|    Alexi|     F|            1|  Warren|  216.842| paid|Spokane-Spokane V...|   PUT|NextSong|1532482662000|       53|You'll Never Know...|   200|1538354180000|Mozilla/5.0 (Wind...|    54|    1|\n",
      "+-------------+---------+---------+------+-------------+--------+---------+-----+--------------------+------+--------+-------------+---------+--------------------+------+-------------+--------------------+------+-----+\n",
      "only showing top 2 rows\n",
      "\n"
     ]
    }
   ],
   "source": [
    "# Get logs of churned users\n",
    "user_log_valid_churned = user_log_valid.filter(col(\"userId\").isin(churned_userids_list))\n",
    "# Set churn 1 for churned users\n",
    "user_log_valid_churned = user_log_valid_churned.withColumn(\"churn\", lit(1))\n",
    "# Get logs of stayed users\n",
    "user_log_valid_stayed = user_log_valid.filter(~col(\"userId\").isin(churned_userids_list))\n",
    "# Print churned users, check flag set\n",
    "user_log_valid_churned.show(2)"
   ]
  },
  {
   "cell_type": "code",
   "execution_count": 31,
   "metadata": {},
   "outputs": [
    {
     "name": "stdout",
     "output_type": "stream",
     "text": [
      "278154\n",
      "44864\n",
      "233290\n"
     ]
    }
   ],
   "source": [
    "# Merge churn labelled sub-sets back into main log df\n",
    "user_log_valid = user_log_valid_churned.union(user_log_valid_stayed)\n",
    "# Print all user logs total again\n",
    "print(user_log_valid.count())\n",
    "# Print number of churned users logs\n",
    "print(user_log_valid_churned.count())\n",
    "# Print number of non-churned users logs\n",
    "print(user_log_valid_stayed.count())"
   ]
  },
  {
   "cell_type": "markdown",
   "metadata": {},
   "source": [
    "### Explore churned v stayed user sub-groups\n",
    "\n",
    "We will now explore various features in the dataset to see if any of them reveal any significant differences between users that churn and users that stay.\n",
    "\n",
    "#### Explore songs played per hour\n",
    "\n",
    "Does one group play more songs per hour than the other group?"
   ]
  },
  {
   "cell_type": "code",
   "execution_count": 32,
   "metadata": {},
   "outputs": [],
   "source": [
    "# Calculate songs played per hour for each group\n",
    "get_hour = udf(lambda x: datetime.datetime.fromtimestamp(x / 1000.0). hour)\n",
    "# Create hour column\n",
    "user_log_valid_churned = user_log_valid_churned.withColumn(\"hour\", get_hour(user_log_valid_churned.ts))\n",
    "user_log_valid_stayed = user_log_valid_stayed.withColumn(\"hour\", get_hour(user_log_valid_stayed.ts))"
   ]
  },
  {
   "cell_type": "code",
   "execution_count": 33,
   "metadata": {},
   "outputs": [],
   "source": [
    "# Calculate songs played per hour\n",
    "songs_in_hour_churned = user_log_valid_churned.filter(user_log_valid_churned.page == \"NextSong\").groupby(user_log_valid_churned.hour).count().orderBy(user_log_valid_churned.hour.cast(\"float\"))\n",
    "songs_in_hour_stayed = user_log_valid_stayed.filter(user_log_valid_stayed.page == \"NextSong\").groupby(user_log_valid_stayed.hour).count().orderBy(user_log_valid_stayed.hour.cast(\"float\"))\n",
    "# Convert songs per hour results to pandas df\n",
    "songs_in_hour_churned_pdf = songs_in_hour_churned.toPandas()\n",
    "songs_in_hour_churned_pdf.hour = pd.to_numeric(songs_in_hour_churned_pdf.hour)\n",
    "songs_in_hour_stayed_pdf = songs_in_hour_stayed.toPandas()\n",
    "songs_in_hour_stayed_pdf.hour = pd.to_numeric(songs_in_hour_stayed_pdf.hour)\n",
    "# Scale by number of users in each group\n",
    "songs_in_hour_churned_pdf['count'] = songs_in_hour_churned_pdf['count'].apply(lambda x: x // unique_users_cancelled)\n",
    "songs_in_hour_stayed_pdf['count'] = songs_in_hour_stayed_pdf['count'].apply(lambda x: x // unique_users_stayed)\n"
   ]
  },
  {
   "cell_type": "code",
   "execution_count": 34,
   "metadata": {},
   "outputs": [
    {
     "data": {
      "image/png": "[encoded data removed]",
      "text/plain": [
       "<matplotlib.figure.Figure at 0x7f33f329ca58>"
      ]
     },
     "metadata": {
      "needs_background": "light"
     },
     "output_type": "display_data"
    }
   ],
   "source": [
    "# Plot each groups songs per hour on graph\n",
    "plt.figure(figsize=(15,10))\n",
    "plt.scatter(songs_in_hour_churned_pdf[\"hour\"], songs_in_hour_churned_pdf[\"count\"], label='Churned users')\n",
    "plt.scatter(songs_in_hour_stayed_pdf[\"hour\"], songs_in_hour_stayed_pdf[\"count\"], label='Stayed users')\n",
    "plt.xlabel(\"Hour\")\n",
    "plt.ylabel(\"Songs played per user\");\n",
    "plt.title(\"Songs played per user per hour\");\n",
    "plt.legend();"
   ]
  },
  {
   "cell_type": "code",
   "execution_count": 35,
   "metadata": {},
   "outputs": [
    {
     "name": "stdout",
     "output_type": "stream",
     "text": [
      "45.625\n",
      "28.625\n",
      "17.0\n"
     ]
    }
   ],
   "source": [
    "# Calculate difference of mean songs per hour per user for each group\n",
    "mean_usersongs_per_hour_churned = songs_in_hour_churned_pdf['count'].mean()\n",
    "mean_usersongs_per_hour_stayed = songs_in_hour_stayed_pdf['count'].mean()\n",
    "diff_means_usersongs_per_hour = mean_usersongs_per_hour_stayed - mean_usersongs_per_hour_churned\n",
    "# Print means & diff means\n",
    "print(mean_usersongs_per_hour_stayed)\n",
    "print(mean_usersongs_per_hour_churned)\n",
    "print(diff_means_usersongs_per_hour)"
   ]
  },
  {
   "cell_type": "markdown",
   "metadata": {},
   "source": [
    "So there seems to be a big difference in the mean songs played per hour between the two groups of users - but how can we be sure it's significant?\n",
    "\n",
    "We know from the central limit theorem that these sample means should come from a normal distribution, therefore we can use a parametric t-test on the data to see if the difference in means is significant i.e. that users that stay do actually play more songs per hour than users who churn.\n",
    "\n",
    "We will perform a 2-sided (unpaired) t-test on the churned v stayed users mean played songs per hour, with the null hypothesis being there is no significant difference between the users - and the alternate being that there is a significant difference between the users.\n",
    "\n",
    "We will choose a significance level (alpha) of 0.05 for our p-value to judge the result."
   ]
  },
  {
   "cell_type": "code",
   "execution_count": 36,
   "metadata": {},
   "outputs": [
    {
     "name": "stdout",
     "output_type": "stream",
     "text": [
      "Statistics=10.866, p=0.000\n"
     ]
    }
   ],
   "source": [
    "# Peform t test on both groups\n",
    "stat, p = ttest_ind(songs_in_hour_stayed_pdf['count'].tolist(), songs_in_hour_churned_pdf['count'].tolist())\n",
    "print('Statistics=%.3f, p=%.3f' % (stat, p))"
   ]
  },
  {
   "cell_type": "markdown",
   "metadata": {},
   "source": [
    "So while users that churned & users that stayed have a similar pattern of usage per hour, we can see with a p-value of 0 less than our alpha of 0.05, this seems to confirm that there is a significant difference in mean songs played per hour between users that churn and users that stay.\n",
    "\n",
    "Therefore 'mean songs per hour' might be a useful feature for our model to predict user churn.\n",
    "\n",
    "#### Explore actions per user\n",
    "\n",
    "Let us now compare the number of actions taken on average pers user per group."
   ]
  },
  {
   "cell_type": "code",
   "execution_count": 37,
   "metadata": {},
   "outputs": [
    {
     "name": "stdout",
     "output_type": "stream",
     "text": [
      "+-------------------------+\n",
      "|page                     |\n",
      "+-------------------------+\n",
      "|About                    |\n",
      "|Add Friend               |\n",
      "|Add to Playlist          |\n",
      "|Cancel                   |\n",
      "|Cancellation Confirmation|\n",
      "|Downgrade                |\n",
      "|Error                    |\n",
      "|Help                     |\n",
      "|Home                     |\n",
      "|Logout                   |\n",
      "|NextSong                 |\n",
      "|Roll Advert              |\n",
      "|Save Settings            |\n",
      "|Settings                 |\n",
      "|Submit Downgrade         |\n",
      "|Submit Upgrade           |\n",
      "|Thumbs Down              |\n",
      "|Thumbs Up                |\n",
      "|Upgrade                  |\n",
      "+-------------------------+\n",
      "\n"
     ]
    }
   ],
   "source": [
    "# Re-cap the types of actions available\n",
    "user_log_valid.select(\"page\").dropDuplicates().sort(\"page\").show(truncate=False)"
   ]
  },
  {
   "cell_type": "code",
   "execution_count": 38,
   "metadata": {},
   "outputs": [
    {
     "name": "stdout",
     "output_type": "stream",
     "text": [
      "                  churned  stayed\n",
      "page                             \n",
      "About                   1       2\n",
      "Add Friend             12      21\n",
      "Add to Playlist        19      31\n",
      "Downgrade               6       9\n",
      "Error                   0       1\n",
      "Help                    4       7\n",
      "Home                   32      48\n",
      "Logout                 10      15\n",
      "NextSong              699    1108\n",
      "Roll Advert            18      17\n",
      "Save Settings           1       1\n",
      "Settings                5       7\n",
      "Submit Downgrade        0       0\n",
      "Submit Upgrade          0       0\n",
      "Thumbs Down             9      11\n",
      "Thumbs Up              35      61\n",
      "Upgrade                 2       2\n"
     ]
    },
    {
     "data": {
      "text/plain": [
       "Text(0.5,1,'Mean actions per user')"
      ]
     },
     "execution_count": 38,
     "metadata": {},
     "output_type": "execute_result"
    },
    {
     "data": {
      "image/png": "[encoded data removed]",
      "text/plain": [
       "<matplotlib.figure.Figure at 0x7f3424041828>"
      ]
     },
     "metadata": {
      "needs_background": "light"
     },
     "output_type": "display_data"
    }
   ],
   "source": [
    "# Get total actions per group\n",
    "actions_churned_count = user_log_valid_churned.groupby(user_log_valid_churned.page).count().orderBy(user_log_valid_churned.page)\n",
    "actions_stayed_count = user_log_valid_stayed.groupby(user_log_valid_stayed.page).count().orderBy(user_log_valid_stayed.page)\n",
    "\n",
    "# Convert churned into pandas df\n",
    "actions_churned_count_pdf = actions_churned_count.toPandas()\n",
    "actions_churned_count_pdf.columns = ['page', 'churned']\n",
    "# Scale by number of users in churned group\n",
    "actions_churned_count_pdf['churned'] = actions_churned_count_pdf['churned'] // unique_users_cancelled\n",
    "# Convert stayed into pandas df\n",
    "actions_stayed_count_pdf = actions_stayed_count.toPandas()\n",
    "actions_stayed_count_pdf.columns = ['page', 'stayed']\n",
    "# Scale by number of users in stayed group\n",
    "actions_stayed_count_pdf['stayed'] = actions_stayed_count_pdf['stayed'] // unique_users_stayed\n",
    "\n",
    "# Merge both groups into single df\n",
    "actions_count_pdf = pd.merge(actions_churned_count_pdf, actions_stayed_count_pdf, on='page')\n",
    "actions_count_pdf = actions_count_pdf.set_index('page')\n",
    "\n",
    "# Show all values\n",
    "print(actions_count_pdf.head(20))\n",
    "# The values for 'NextSong' are huge and will prevent us from seeing the other values clearly on chart, so lets remove\n",
    "actions_count_pdf = actions_count_pdf.drop(['NextSong'])\n",
    "# Plot remaining values for actions from both groups\n",
    "ax = actions_count_pdf.plot.bar(rot=0, figsize=(20,10))\n",
    "ax.set_xlabel(\"Action/page visited\")\n",
    "ax.set_ylabel(\"Mean visits per user\")\n",
    "ax.set_title(\"Mean actions per user\")"
   ]
  },
  {
   "cell_type": "markdown",
   "metadata": {},
   "source": [
    "So when comparing both groups, we can see the stayed group has significantly bigger values for the following pages/actions:\n",
    "\n",
    "- NextSong\n",
    "- Add Friend\n",
    "- Add to Playlist\n",
    "- Home\n",
    "- Thumbs up\n",
    "\n",
    "This might suggest these would be good features for our model for helping to distingush & predict users likely to churn. However we may need to add another feature that helps account for length of time e.g. days since signup, this will allow the model to distinguish a user that has visted these pages a little but of a longer time (so has a big total) compared to another user who has visted these pages a lot in a shorter space of time."
   ]
  },
  {
   "cell_type": "markdown",
   "metadata": {},
   "source": [
    "#### Explore length per user\n",
    "\n",
    "I assume this means length of time each logged activity takes? for example if a user gets a poor service i.e. a slow connection & slow service - is this a good predictor if someone will churn?"
   ]
  },
  {
   "cell_type": "code",
   "execution_count": 39,
   "metadata": {},
   "outputs": [
    {
     "name": "stdout",
     "output_type": "stream",
     "text": [
      "+-------+------------------+\n",
      "|summary|            length|\n",
      "+-------+------------------+\n",
      "|  count|             36394|\n",
      "|   mean|248.63279564406366|\n",
      "| stddev|102.38497717575474|\n",
      "|    min|           4.04853|\n",
      "|    max|        3024.66567|\n",
      "+-------+------------------+\n",
      "\n",
      "+-------+------------------+\n",
      "|summary|            length|\n",
      "+-------+------------------+\n",
      "|  count|            191714|\n",
      "|   mean|249.20913538881427|\n",
      "| stddev|  98.6258830014688|\n",
      "|    min|           0.78322|\n",
      "|    max|        3024.66567|\n",
      "+-------+------------------+\n",
      "\n"
     ]
    }
   ],
   "source": [
    "# Get lengths per group\n",
    "user_log_valid_churned.describe(\"length\").show()\n",
    "user_log_valid_stayed.describe(\"length\").show()"
   ]
  },
  {
   "cell_type": "markdown",
   "metadata": {},
   "source": [
    "There does not seem to be a significant difference in the distribution of values for for length between churned and stayed users."
   ]
  },
  {
   "cell_type": "markdown",
   "metadata": {},
   "source": [
    "#### Explore status per user\n",
    "\n",
    "These seem to be the (HTTP) status codes for each logged event/activity for success (200), failure (404) or temporary redirect (307) are these perhaps good predictors if someone will churn?"
   ]
  },
  {
   "cell_type": "code",
   "execution_count": 40,
   "metadata": {},
   "outputs": [
    {
     "name": "stdout",
     "output_type": "stream",
     "text": [
      "        churned  stayed\n",
      "status                 \n",
      "200         791    1234\n",
      "307          71     112\n",
      "404           0       1\n"
     ]
    },
    {
     "data": {
      "text/plain": [
       "Text(0.5,1,'Mean HTTP Status for events per user')"
      ]
     },
     "execution_count": 40,
     "metadata": {},
     "output_type": "execute_result"
    },
    {
     "data": {
      "image/png": "[encoded data removed]",
      "text/plain": [
       "<matplotlib.figure.Figure at 0x7f33f023f908>"
      ]
     },
     "metadata": {
      "needs_background": "light"
     },
     "output_type": "display_data"
    }
   ],
   "source": [
    "# Get total status per group\n",
    "status_churned_count = user_log_valid_churned.groupby(user_log_valid_churned.status).count().orderBy(user_log_valid_churned.status)\n",
    "status_stayed_count = user_log_valid_stayed.groupby(user_log_valid_stayed.status).count().orderBy(user_log_valid_stayed.status)\n",
    "\n",
    "# Convert churned into pandas df\n",
    "status_churned_count_pdf = status_churned_count.toPandas()\n",
    "status_churned_count_pdf.columns = ['status', 'churned']\n",
    "# Scale by number of users in churned group\n",
    "status_churned_count_pdf['churned'] = status_churned_count_pdf['churned'] // unique_users_cancelled\n",
    "# Convert stayed into pandas df\n",
    "status_stayed_count_pdf = status_stayed_count.toPandas()\n",
    "status_stayed_count_pdf.columns = ['status', 'stayed']\n",
    "# Scale by number of users in stayed group\n",
    "status_stayed_count_pdf['stayed'] = status_stayed_count_pdf['stayed'] // unique_users_stayed\n",
    "\n",
    "# Merge both groups into single df\n",
    "status_count_pdf = pd.merge(status_churned_count_pdf, status_stayed_count_pdf, on='status')\n",
    "status_count_pdf = status_count_pdf.set_index('status')\n",
    "\n",
    "# Show all values\n",
    "print(status_count_pdf.head(20))\n",
    "# Plot remaining values for status from both groups\n",
    "ax = status_count_pdf.plot.bar(rot=0, figsize=(20,10))\n",
    "ax.set_xlabel(\"HTTP Status of activity\")\n",
    "ax.set_ylabel(\"Mean count per user\")\n",
    "ax.set_title(\"Mean HTTP Status for events per user\")"
   ]
  },
  {
   "cell_type": "markdown",
   "metadata": {},
   "source": [
    "It would seem then that users that stay get on average more '200' success status values than those that churn. This could of course simply be due to what we observed earlier, that users who tend to stay tend to use the service more. \n",
    "\n",
    "However there could be other reasons. I may well choose to include the 200 value as a feature for the model.\n",
    "\n",
    "#### Explore gender per user\n",
    "\n",
    "Is one gender more likely to churn than the other?"
   ]
  },
  {
   "cell_type": "code",
   "execution_count": 41,
   "metadata": {},
   "outputs": [
    {
     "name": "stdout",
     "output_type": "stream",
     "text": [
      "Churned users\n",
      "+------+-----+\n",
      "|gender|count|\n",
      "+------+-----+\n",
      "|     F|   20|\n",
      "|     M|   32|\n",
      "+------+-----+\n",
      "\n",
      "Stayed users\n",
      "+------+-----+\n",
      "|gender|count|\n",
      "+------+-----+\n",
      "|     F|   84|\n",
      "|     M|   89|\n",
      "+------+-----+\n",
      "\n",
      "        churned  stayed\n",
      "gender                 \n",
      "F            20      84\n",
      "M            32      89\n"
     ]
    },
    {
     "data": {
      "text/plain": [
       "Text(0.5,1,'Gender of churned v staying users')"
      ]
     },
     "execution_count": 41,
     "metadata": {},
     "output_type": "execute_result"
    },
    {
     "data": {
      "image/png": "[encoded data removed]",
      "text/plain": [
       "<matplotlib.figure.Figure at 0x7f33f064add8>"
      ]
     },
     "metadata": {
      "needs_background": "light"
     },
     "output_type": "display_data"
    }
   ],
   "source": [
    "# Get total gender per group\n",
    "gender_churned_count = user_log_valid_churned.select('userId', 'gender').distinct().groupby(user_log_valid_churned.gender).count()\n",
    "gender_stayed_count = user_log_valid_stayed.select('userId', 'gender').distinct().groupby(user_log_valid_stayed.gender).count()\n",
    "\n",
    "# Print churned & stayed totals\n",
    "print(\"Churned users\")\n",
    "gender_churned_count.show()\n",
    "print(\"Stayed users\")\n",
    "gender_stayed_count.show()\n",
    "\n",
    "# Convert churned into pandas df\n",
    "gender_churned_count_pdf = gender_churned_count.toPandas()\n",
    "gender_churned_count_pdf.columns = ['gender', 'churned']\n",
    "# Convert stayed into pandas df\n",
    "gender_stayed_count_pdf = gender_stayed_count.toPandas()\n",
    "gender_stayed_count_pdf.columns = ['gender', 'stayed']\n",
    "\n",
    "# Merge both groups into single df\n",
    "gender_count_pdf = pd.merge(gender_churned_count_pdf, gender_stayed_count_pdf, on='gender')\n",
    "gender_count_pdf = gender_count_pdf.set_index('gender')\n",
    "\n",
    "# Show all values\n",
    "print(gender_count_pdf.head())\n",
    "# Plot remaining values for gender from both groups\n",
    "ax = gender_count_pdf.plot.bar(rot=0, figsize=(20,10))\n",
    "ax.set_xlabel(\"Gender\")\n",
    "ax.set_ylabel(\"Number of users\")\n",
    "ax.set_title(\"Gender of churned v staying users\")"
   ]
  },
  {
   "cell_type": "markdown",
   "metadata": {},
   "source": [
    "The proportions of males to females for both groups seems roughly similar, so we will not use this as a feature for our model.\n",
    "\n",
    "#### Days registered\n",
    "\n",
    "Does the number of days since a user signed up make a userful predictor for if that user will churn?"
   ]
  },
  {
   "cell_type": "code",
   "execution_count": 42,
   "metadata": {},
   "outputs": [
    {
     "data": {
      "image/png": "[encoded data removed]",
      "text/plain": [
       "<matplotlib.figure.Figure at 0x7f33f055b320>"
      ]
     },
     "metadata": {
      "needs_background": "light"
     },
     "output_type": "display_data"
    }
   ],
   "source": [
    "# Create window function to get rank of each row from logs based on userid and timestamp (ts)\n",
    "window_churned = Window.partitionBy(user_log_valid_churned['userId']).orderBy(user_log_valid_churned['ts'].desc())\n",
    "window_stayed = Window.partitionBy(user_log_valid_stayed['userId']).orderBy(user_log_valid_stayed['ts'].desc())\n",
    "# Now filter results using window function and only keep top 1 at most \n",
    "# i.e. Create new sdf of last log entry per user\n",
    "last_log_user_churned = user_log_valid_churned.select(\"*\", rank().over(window_churned).alias('rank')).filter(col('rank') <= 1)\n",
    "last_log_user_stayed = user_log_valid_stayed.select(\"*\", rank().over(window_stayed).alias('rank')).filter(col('rank') <= 1)\n",
    "# Create lambda function to calculate new feature for days since registration\n",
    "calc_days_registered = udf(lambda reglog, lastlog: (datetime.datetime.fromtimestamp(lastlog/1000) - datetime.datetime.fromtimestamp(reglog/1000)).days)\n",
    "# Apply lambda to create days since registration\n",
    "last_log_user_churned = last_log_user_churned.withColumn(\"days_registered\", calc_days_registered(last_log_user_churned.registration, last_log_user_churned.ts))\n",
    "last_log_user_stayed = last_log_user_stayed.withColumn(\"days_registered\", calc_days_registered(last_log_user_stayed.registration, last_log_user_stayed.ts))\n",
    "# Convert to float\n",
    "last_log_user_churned = last_log_user_churned.withColumn(\"days_registered\", last_log_user_churned.days_registered.cast('float'))\n",
    "last_log_user_stayed = last_log_user_stayed.withColumn(\"days_registered\", last_log_user_stayed.days_registered.cast('float'))\n",
    "\n",
    "# Convert to pandas df\n",
    "last_log_user_churned_df = last_log_user_churned.toPandas()\n",
    "last_log_user_stayed_df = last_log_user_stayed.toPandas()\n",
    "# Create box plots comparing days registered for churned v stayed users\n",
    "days_registered_compare = pd.DataFrame()\n",
    "days_registered_compare['Churned users'] = last_log_user_churned_df['days_registered'] \n",
    "days_registered_compare['Stayed users'] = last_log_user_stayed_df['days_registered'] \n",
    "days_registered_compare.boxplot(figsize=(10,10), grid=True, widths=0.9)\n",
    "plt.title('Days registered of churned v stayed users')\n",
    "plt.ylabel('Days registered')\n",
    "plt.show()"
   ]
  },
  {
   "cell_type": "markdown",
   "metadata": {},
   "source": [
    "It seems like churned users are registered for a lower number of days, the distribution of values is clearly lower for these users. Therefore, days registered could well be a useful predictor for user churn.\n",
    "\n",
    "# Feature Engineering\n",
    "Once you've familiarized yourself with the data, build out the features you find promising to train your model on. To work with the full dataset, you can follow the following steps.\n",
    "- Write a script to extract the necessary features from the smaller subset of data\n",
    "- Ensure that your script is scalable, using the best practices discussed in Lesson 3\n",
    "- Try your script on the full data set, debugging your script if necessary\n",
    "\n",
    "If you are working in the classroom workspace, you can just extract features based on the small subset of data contained here. Be sure to transfer over this work to the larger dataset when you work on your Spark cluster."
   ]
  },
  {
   "cell_type": "code",
   "execution_count": 57,
   "metadata": {},
   "outputs": [
    {
     "data": {
      "text/plain": [
       "[Row(NextSong=275, Add Friend=4, Add to Playlist=7, Home=11, Thumbs Up=17, userId='100010', days_registered=55.0, churn=0, FeatureVector=DenseVector([275.0, 4.0, 7.0, 11.0, 17.0, 55.0]), ScaledFeatureVector=DenseVector([0.9776, 0.0142, 0.0249, 0.0391, 0.0604, 0.1955]))]"
      ]
     },
     "execution_count": 57,
     "metadata": {},
     "output_type": "execute_result"
    }
   ],
   "source": [
    "def engineer_user_features(user_logs_sdf):\n",
    "    \"\"\"\n",
    "    Create features for ML model from source spark dataframe\n",
    "    \n",
    "    INPUT: Source spark dataframe - individual rows per log event\n",
    "    OUTPUT: Spark dataframe with engineered features ready for model - individual rows per unique user\n",
    "    \"\"\"\n",
    "    \n",
    "    # PAGE FEATURES\n",
    "    # Create new sdf aggregation counts from logs by user and by page\n",
    "    users_sdf = user_logs_sdf.groupby(\"userId\", \"page\").count()\n",
    "    # Group by userid & pivot page types & sum count to create one row of page feature counts per userId\n",
    "    users_sdf = users_sdf.groupby(\"userId\").pivot(\"page\").sum('count')\n",
    "    # Keep only the most promising page types\n",
    "    users_sdf = users_sdf.select([\"userId\", \"NextSong\", \"Add Friend\", \"Add to Playlist\", \"Home\", \"Thumbs Up\"])\n",
    "    # Replace nulls with zeros - ready for calculations etc..\n",
    "    users_sdf = users_sdf.na.fill(0)\n",
    "    \n",
    "    \n",
    "    # DAYS REGISTERED FEATURE\n",
    "    # Create window function to get rank of each row from logs based on userid and timestamp (ts)\n",
    "    window = Window.partitionBy(user_logs_sdf['userId']).orderBy(user_logs_sdf['ts'].desc())\n",
    "    # Now filter results using window function and only keep top 1 at most \n",
    "    # i.e. Create new sdf of last log entry per user\n",
    "    last_log_user = user_logs_sdf.select(\"*\", rank().over(window).alias('rank')).filter(col('rank') <= 1)\n",
    "    # Create lambda function to calculate new feature for days since registration\n",
    "    calc_days_registered = udf(lambda reglog, lastlog: (datetime.datetime.fromtimestamp(lastlog/1000) - datetime.datetime.fromtimestamp(reglog/1000)).days)\n",
    "    # Apply lambda to create days since registration\n",
    "    last_log_user = last_log_user.withColumn(\"days_registered\", calc_days_registered(last_log_user.registration, last_log_user.ts))\n",
    "    # Convert to float\n",
    "    last_log_user = last_log_user.withColumn(\"days_registered\", last_log_user.days_registered.cast('float'))\n",
    "    # Remove redundant columns\n",
    "    last_log_user = last_log_user.select([\"userId\", \"days_registered\"])\n",
    "    # Create days registered feature by inner join\n",
    "    users_sdf = users_sdf.join(last_log_user, users_sdf[\"userId\"] == last_log_user[\"userId\"]).drop(last_log_user[\"userId\"])\n",
    "    # Remove any duplicates created by join\n",
    "    users_sdf = users_sdf.dropDuplicates()\n",
    "    \n",
    "    \n",
    "    # CHURN TARGET FEATURE\n",
    "    # Find unique users that cancelled\n",
    "    churned_sdf = user_logs_sdf.filter(\"page = 'Cancellation Confirmation'\")\n",
    "    churned_sdf = churned_sdf.select('userId').distinct()\n",
    "    # Add new churn column - set default to 1\n",
    "    churned_sdf = churned_sdf.withColumn(\"churn\", lit(1))\n",
    "    # Left join churned sdf on users sdf\n",
    "    users_sdf = users_sdf.join(churned_sdf, users_sdf[\"userId\"] == churned_sdf[\"userId\"], \"left\").drop(churned_sdf[\"userId\"])\n",
    "    # Replace null values in churned column with 0\n",
    "    users_sdf = users_sdf.na.fill({'churn': 0})\n",
    "    \n",
    "    \n",
    "    # NORMALISE FEATURES\n",
    "    cols = [\"NextSong\", \"Add Friend\", \"Add to Playlist\", \"Home\", \"Thumbs Up\", \"days_registered\"]\n",
    "    # Create feature vector assembler\n",
    "    vector_assembler = VectorAssembler(inputCols=cols, outputCol=\"FeatureVector\")\n",
    "    # Transform features into dense vector feature\n",
    "    users_sdf = vector_assembler.transform(users_sdf)\n",
    "    # Normalise feature vector\n",
    "    scaler = Normalizer(inputCol=\"FeatureVector\", outputCol=\"ScaledFeatureVector\")\n",
    "    users_sdf = scaler.transform(users_sdf)\n",
    "    \n",
    "    \n",
    "    # Return resulting sdf\n",
    "    return users_sdf\n",
    "\n",
    "users_sdf = engineer_user_features(user_log_valid)\n",
    "users_sdf.head(1)"
   ]
  },
  {
   "cell_type": "markdown",
   "metadata": {},
   "source": [
    "# Modeling\n",
    "Split the full dataset into train, test, and validation sets. Test out several of the machine learning methods you learned. Evaluate the accuracy of the various models, tuning parameters as necessary. Determine your winning model based on test accuracy and report results on the validation set. Since the churned users are a fairly small subset, I suggest using F1 score as the metric to optimize.\n",
    "\n",
    "#### Split data"
   ]
  },
  {
   "cell_type": "code",
   "execution_count": 44,
   "metadata": {},
   "outputs": [],
   "source": [
    "# Change column names of data for training & testing\n",
    "data = users_sdf.select(col(\"churn\").alias(\"label\"), col(\"ScaledFeatureVector\").alias(\"features\"))\n",
    "# Split data into train + validation and test sets\n",
    "rest, test = data.randomSplit([0.8, 0.2], seed=42)\n",
    "train, validation = rest.randomSplit([0.6, 0.4], seed=42)"
   ]
  },
  {
   "cell_type": "markdown",
   "metadata": {},
   "source": [
    "#### Baseline/naive predictor\n",
    "\n",
    "Let is recap how many users churned v how many stayed."
   ]
  },
  {
   "cell_type": "code",
   "execution_count": 45,
   "metadata": {},
   "outputs": [
    {
     "name": "stdout",
     "output_type": "stream",
     "text": [
      "44864\n",
      "233290\n",
      "0.19231000042865104\n"
     ]
    }
   ],
   "source": [
    "users_churned = user_log_valid_churned.count()\n",
    "users_stayed = user_log_valid_stayed.count()\n",
    "# Print number of churned users logs\n",
    "print(users_churned)\n",
    "# Print number of non-churned users logs\n",
    "print(users_stayed)\n",
    "# Print proportion churned v stayed\n",
    "print(users_churned / users_stayed)"
   ]
  },
  {
   "cell_type": "markdown",
   "metadata": {},
   "source": [
    "So most users stayed (around 19% churned). Lets define the naive predictor as one that predicts all users stayed (i.e. churn = 0) and derive an F1 score that will be our baseline F1 score."
   ]
  },
  {
   "cell_type": "code",
   "execution_count": 46,
   "metadata": {},
   "outputs": [
    {
     "name": "stdout",
     "output_type": "stream",
     "text": [
      "Naive predictor metrics:\n",
      "F-1 Score:0.5841784989858012\n"
     ]
    }
   ],
   "source": [
    "results_base = test.withColumn('prediction', lit(0.0))\n",
    "metrics = MulticlassClassificationEvaluator(predictionCol=\"prediction\")\n",
    "print('Naive predictor metrics:')\n",
    "print('F-1 Score:{}'.format(metrics.evaluate(results_base, {metrics.metricName: \"f1\"})))"
   ]
  },
  {
   "cell_type": "markdown",
   "metadata": {},
   "source": [
    "So our naive predictor has a score of 0.58 to beat.\n",
    "\n",
    "#### Model criteria\n",
    "\n",
    "It is envisaged that the model could be used on a periodic basis (run daily, or weekly) to identify user that churn.\n",
    "\n",
    "Given our relatively small dataset, in order to get the best model from our data that maximises our correct classifications while also minimizing our incorrect classifications - the F1 score is a convenient measure that aims to measure both of these in one single metric.\n",
    "\n",
    "Therefore, our main objective is to have a model that has the best predictive performance (as defined by the F1 score). While speed of training of the model is a lesser consideration we will also take note of this in our comparison between model results.\n",
    "\n",
    "#### Model agnostic components\n",
    "\n",
    "Lets define some model components that we will use for all of our models."
   ]
  },
  {
   "cell_type": "code",
   "execution_count": 47,
   "metadata": {},
   "outputs": [],
   "source": [
    "# Define metric to optimise cross-fold validation training\n",
    "f1_score = MulticlassClassificationEvaluator(metricName='f1')\n",
    "# Define parameters for cross-fold validation\n",
    "paramGrid = ParamGridBuilder() \\\n",
    "    .build()"
   ]
  },
  {
   "cell_type": "markdown",
   "metadata": {},
   "source": [
    "#### Logistic regression"
   ]
  },
  {
   "cell_type": "code",
   "execution_count": 75,
   "metadata": {},
   "outputs": [
    {
     "name": "stdout",
     "output_type": "stream",
     "text": [
      "The training process took 489.0117049217224 seconds\n"
     ]
    }
   ],
   "source": [
    "# Create model\n",
    "logistic_regression = LogisticRegression()\n",
    "# Create cross-fold validation object with model\n",
    "crossval_lr = CrossValidator(estimator=logistic_regression,\n",
    "                          estimatorParamMaps=paramGrid,\n",
    "                          evaluator=f1_score,\n",
    "                          numFolds=3)\n",
    "# Train model using cross-fold validation\n",
    "training_start = time()\n",
    "cv_lr_model = crossval_lr.fit(train)\n",
    "training_end = time()\n",
    "print('The training process took {} seconds'.format(training_end - training_start))"
   ]
  },
  {
   "cell_type": "code",
   "execution_count": 76,
   "metadata": {},
   "outputs": [
    {
     "name": "stdout",
     "output_type": "stream",
     "text": [
      "Logistic regression metrics:\n",
      "F-1 Score:0.6644736842105263\n"
     ]
    }
   ],
   "source": [
    "# Validate model\n",
    "results_lr = cv_lr_model.transform(validation)\n",
    "# Show metrics\n",
    "print('Logistic regression metrics:')\n",
    "print('F-1 Score:{}'.format(metrics.evaluate(results_lr, {metrics.metricName: \"f1\"})))"
   ]
  },
  {
   "cell_type": "markdown",
   "metadata": {},
   "source": [
    "#### Random forrest"
   ]
  },
  {
   "cell_type": "code",
   "execution_count": 77,
   "metadata": {},
   "outputs": [
    {
     "name": "stdout",
     "output_type": "stream",
     "text": [
      "The training process took 402.4907035827637 seconds\n"
     ]
    }
   ],
   "source": [
    "# Create model\n",
    "random_forrest = RandomForestClassifier()\n",
    "# Create cross-fold validation object with model\n",
    "crossval_rf = CrossValidator(estimator=random_forrest,\n",
    "                          estimatorParamMaps=paramGrid,\n",
    "                          evaluator=f1_score,\n",
    "                          numFolds=3)\n",
    "# Train model using cross-fold validation\n",
    "training_start = time()\n",
    "cv_rf_model = crossval_rf.fit(train)\n",
    "training_end = time()\n",
    "print('The training process took {} seconds'.format(training_end - training_start))"
   ]
  },
  {
   "cell_type": "code",
   "execution_count": 78,
   "metadata": {},
   "outputs": [
    {
     "name": "stdout",
     "output_type": "stream",
     "text": [
      "Random forrest metrics:\n",
      "F-1 Score:0.7000095751811305\n"
     ]
    }
   ],
   "source": [
    "# Validate model\n",
    "results_rf = cv_rf_model.transform(validation)\n",
    "# Show metrics\n",
    "print('Random forrest metrics:')\n",
    "print('F-1 Score:{}'.format(metrics.evaluate(results_rf, {metrics.metricName: \"f1\"})))"
   ]
  },
  {
   "cell_type": "markdown",
   "metadata": {},
   "source": [
    "#### Gradient boosted tree"
   ]
  },
  {
   "cell_type": "code",
   "execution_count": 79,
   "metadata": {},
   "outputs": [
    {
     "name": "stdout",
     "output_type": "stream",
     "text": [
      "The training process took 1453.1155021190643 seconds\n"
     ]
    }
   ],
   "source": [
    "# Create model\n",
    "gradient_boosted_tree = GBTClassifier()\n",
    "# Create cross-fold validation object with model\n",
    "crossval_gbt = CrossValidator(estimator=gradient_boosted_tree,\n",
    "                          estimatorParamMaps=paramGrid,\n",
    "                          evaluator=f1_score,\n",
    "                          numFolds=3)\n",
    "# Train model using cross-fold validation\n",
    "training_start = time()\n",
    "cv_gbt_model = crossval_gbt.fit(train)\n",
    "training_end = time()\n",
    "print('The training process took {} seconds'.format(training_end - training_start))"
   ]
  },
  {
   "cell_type": "code",
   "execution_count": 80,
   "metadata": {},
   "outputs": [
    {
     "name": "stdout",
     "output_type": "stream",
     "text": [
      "Gradient boosted tree metrics:\n",
      "F-1 Score:0.6935672514619883\n"
     ]
    }
   ],
   "source": [
    "# Validate model\n",
    "results_gbt = cv_gbt_model.transform(validation)\n",
    "# Show metrics\n",
    "print('Gradient boosted tree metrics:')\n",
    "print('F-1 Score:{}'.format(metrics.evaluate(results_gbt, {metrics.metricName: \"f1\"})))"
   ]
  },
  {
   "cell_type": "markdown",
   "metadata": {},
   "source": [
    "#### Model comparison and evaluation\n",
    "\n",
    "For us the F1 score is the key determining factor, and random forrest is the model that comes out best with default parameters scoring 0.7. In addition, it also has the fastest training time of 402 seconds. So we will use random forrest as our best model to go forward to fine tune the hyper-parameters.\n",
    "\n",
    "#### Model tuning"
   ]
  },
  {
   "cell_type": "code",
   "execution_count": 48,
   "metadata": {},
   "outputs": [
    {
     "name": "stdout",
     "output_type": "stream",
     "text": [
      "The training process took 1404.8262615203857 seconds\n"
     ]
    }
   ],
   "source": [
    "# Create model\n",
    "random_forrest = RandomForestClassifier()\n",
    "# Define parameters for cross-fold validation & hyper-parameter tuning\n",
    "paramGrid2 = ParamGridBuilder() \\\n",
    "    .addGrid(random_forrest.numTrees, [10, 20, 30]) \\\n",
    "    .addGrid(random_forrest.maxDepth, [3, 5, 10]) \\\n",
    "    .build()\n",
    "\n",
    "# Create cross-fold validation object with model\n",
    "crossval_rf2 = CrossValidator(estimator=random_forrest,\n",
    "                          estimatorParamMaps=paramGrid2,\n",
    "                          evaluator=f1_score,\n",
    "                          numFolds=3)\n",
    "# Train model using cross-fold validation\n",
    "training_start = time()\n",
    "cv_rf2_model = crossval_rf2.fit(train)\n",
    "training_end = time()\n",
    "print('The training process took {} seconds'.format(training_end - training_start))"
   ]
  },
  {
   "cell_type": "code",
   "execution_count": 49,
   "metadata": {},
   "outputs": [
    {
     "name": "stdout",
     "output_type": "stream",
     "text": [
      "Random forrest metrics - validation:\n",
      "F-1 Score:0.79003359462486\n"
     ]
    }
   ],
   "source": [
    "# Validate final best model\n",
    "bestModel = cv_rf2_model.bestModel\n",
    "results_rf2 = bestModel.transform(validation)\n",
    "# Show metrics\n",
    "print('Random forrest metrics - validation:')\n",
    "print('F-1 Score:{}'.format(metrics.evaluate(results_rf2, {metrics.metricName: \"f1\"})))"
   ]
  },
  {
   "cell_type": "code",
   "execution_count": 50,
   "metadata": {},
   "outputs": [
    {
     "name": "stdout",
     "output_type": "stream",
     "text": [
      "Random forrest metrics - test:\n",
      "F-1 Score:0.6288515406162466\n"
     ]
    }
   ],
   "source": [
    "# Check using separate test set - sanity check\n",
    "results_rf3 = bestModel.transform(test)\n",
    "# Show metrics\n",
    "print('Random forrest metrics - test:')\n",
    "print('F-1 Score:{}'.format(metrics.evaluate(results_rf3, {metrics.metricName: \"f1\"})))"
   ]
  },
  {
   "cell_type": "code",
   "execution_count": 56,
   "metadata": {},
   "outputs": [
    {
     "name": "stdout",
     "output_type": "stream",
     "text": [
      "134\n",
      "57\n",
      "34\n"
     ]
    }
   ],
   "source": [
    "# Print number of observations in train, validation & test sets\n",
    "print(train.count())\n",
    "print(validation.count())\n",
    "print(test.count())"
   ]
  },
  {
   "cell_type": "markdown",
   "metadata": {},
   "source": [
    "We should note again that this is a relatively small dataset (225 user account observations).\n",
    "\n",
    "Also our proportions of train, validation and test datasets were:\n",
    "\n",
    "- Train (134) - 48%\n",
    "- Validation (57) - 32%\n",
    "- Test (34) - 20%\n",
    "\n",
    "Our final validation F1 score was 0.79, while our final test F1 score on data the model had never seen was 0.62. Recall our naieve predictor F1 score was 0.58.\n",
    "\n",
    "The question is - which of these scores for our model is more likely accurate? Our test score might give us pause for caution about our validation score being as high. On the other hand, the test score is on a very few observations (34). However both are better than the naive predictor, so we can be more confident at least that the model is offering some improvement over that.\n",
    "\n",
    "Training over a bigger dataset will yield more conclusive results, but given the performance on this dataset - overall given the best F1 score and the performance advantage in terms of training speed - I would still recommend using the Random Forrest model for use in bigger versions of this dataset."
   ]
  },
  {
   "cell_type": "markdown",
   "metadata": {},
   "source": [
    "### Feature importance"
   ]
  },
  {
   "cell_type": "code",
   "execution_count": 51,
   "metadata": {},
   "outputs": [
    {
     "data": {
      "image/png": "[encoded data removed]",
      "text/plain": [
       "<matplotlib.figure.Figure at 0x7f33f04eceb8>"
      ]
     },
     "metadata": {
      "needs_background": "light"
     },
     "output_type": "display_data"
    }
   ],
   "source": [
    "# Get feature importance values\n",
    "feature_importances = bestModel.featureImportances.values\n",
    "cols = [\"NextSong\", \"Add Friend\", \"Add to Playlist\", \"Home\", \"Thumbs Up\", \"days_registered\"]\n",
    "y_pos = np.arange(len(cols))\n",
    " \n",
    "plt.barh(y_pos, feature_importances, align='center')\n",
    "plt.yticks(y_pos, cols)\n",
    "plt.xlabel('Importance Score')\n",
    "plt.title('Random Forrest feature importances');"
   ]
  },
  {
   "cell_type": "markdown",
   "metadata": {},
   "source": [
    "It is interesting to observe that the most useful feature for the model was in fact 'Add to playlist'. It should be noted though than most of the other 'action' features used were close behind. \n",
    "\n",
    "It is also curious to note that the days registered feature was the least useful feature for the model. This suggests that measures of user activity are generally better predictors of user churn than number of days registered."
   ]
  },
  {
   "cell_type": "markdown",
   "metadata": {},
   "source": [
    "## Conclusion\n",
    "\n",
    "In this project we looked at our limited dataset of 225 users, and identified promising features for predicting user churn as well as engineering other features (such as days registered).\n",
    "\n",
    "Our most promising model was the Random Forrest classifier, which had a final validation score of 0.79. It should also be noted that a subsequent evaluation on a separate test set never seen produced a lower score of 0.62. This throws some caution on validation score of 0.79, however the smallness of the dataset as a whole and in particular this separate test set should also be noted.\n",
    "\n",
    "It was certainly very useful to have a separate test set of data to question the validity of the performance of our model - even if we cannot be entirely certain of how much confidence we should place on this.\n",
    "\n",
    "Nevertheless, this model and features developed seem to be good candidates for further exploration on bigger datasets, which would also yeild more conclusive results on our approach. It is my belief that on a bigger dataset, the disparity between the validation and test score would be much smaller, giving us more confidence in the performance of the model on an ongoing basis for larger datasets and more users for predicting churn more accurately."
   ]
  },
  {
   "cell_type": "markdown",
   "metadata": {},
   "source": [
    "# Final Steps\n",
    "Clean up your code, adding comments and renaming variables to make the code easier to read and maintain. Refer to the Spark Project Overview page and Data Scientist Capstone Project Rubric to make sure you are including all components of the capstone project and meet all expectations. Remember, this includes thorough documentation in a README file in a Github repository, as well as a web app or blog post."
   ]
  },
  {
   "cell_type": "code",
   "execution_count": null,
   "metadata": {},
   "outputs": [],
   "source": []
  }
 ],
 "metadata": {
  "kernelspec": {
   "display_name": "Python 3",
   "language": "python",
   "name": "python3"
  },
  "language_info": {
   "codemirror_mode": {
    "name": "ipython",
    "version": 3
   },
   "file_extension": ".py",
   "mimetype": "text/x-python",
   "name": "python",
   "nbconvert_exporter": "python",
   "pygments_lexer": "ipython3",
   "version": "3.6.3"
  }
 },
 "nbformat": 4,
 "nbformat_minor": 2
}
